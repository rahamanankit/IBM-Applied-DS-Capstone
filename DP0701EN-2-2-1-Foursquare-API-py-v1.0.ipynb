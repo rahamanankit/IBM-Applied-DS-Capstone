{
 "cells": [
  {
   "cell_type": "markdown",
   "metadata": {
    "button": false,
    "deletable": true,
    "new_sheet": false,
    "run_control": {
     "read_only": false
    }
   },
   "source": [
    "<a href=\"https://cognitiveclass.ai\"><img src = \"https://ibm.box.com/shared/static/9gegpsmnsoo25ikkbl4qzlvlyjbgxs5x.png\" width = 400> </a>\n",
    "\n",
    "<h1 align=center><font size = 5>Learning FourSquare API with Python</font></h1>"
   ]
  },
  {
   "cell_type": "markdown",
   "metadata": {
    "button": false,
    "deletable": true,
    "new_sheet": false,
    "run_control": {
     "read_only": false
    }
   },
   "source": [
    "   "
   ]
  },
  {
   "cell_type": "markdown",
   "metadata": {
    "button": false,
    "deletable": true,
    "new_sheet": false,
    "run_control": {
     "read_only": false
    }
   },
   "source": [
    "## Introduction\n",
    "\n",
    "In this lab, you will learn in details how to make calls to the Foursquare API for different purposes. You will learn how to construct a URL to send a request to the API to search for a specific type of venues, to explore a particular venue, to explore a Foursquare user, to explore a geographical location, and to get trending venues around a location. Also, you will learn how to use the visualization library, Folium, to visualize the results."
   ]
  },
  {
   "cell_type": "markdown",
   "metadata": {
    "button": false,
    "deletable": true,
    "new_sheet": false,
    "run_control": {
     "read_only": false
    }
   },
   "source": [
    "## Table of Contents\n",
    "\n",
    "1. <a href=\"#item1\">Foursquare API Search Function</a>\n",
    "2. <a href=\"#item2\">Explore a Given Venue</a>  \n",
    "3. <a href=\"#item3\">Explore a User</a>  \n",
    "4. <a href=\"#item4\">Foursquare API Explore Function</a>  \n",
    "5. <a href=\"#item5\">Get Trending Venues</a>  "
   ]
  },
  {
   "cell_type": "markdown",
   "metadata": {
    "button": false,
    "deletable": true,
    "new_sheet": false,
    "run_control": {
     "read_only": false
    }
   },
   "source": [
    "### Import necessary Libraries"
   ]
  },
  {
   "cell_type": "code",
   "execution_count": 1,
   "metadata": {
    "button": false,
    "collapsed": false,
    "deletable": true,
    "new_sheet": false,
    "run_control": {
     "read_only": false
    }
   },
   "outputs": [
    {
     "name": "stdout",
     "output_type": "stream",
     "text": [
      "Collecting package metadata: done\n",
      "Solving environment: done\n",
      "\n",
      "## Package Plan ##\n",
      "\n",
      "  environment location: /home/jupyterlab/conda\n",
      "\n",
      "  added / updated specs:\n",
      "    - geopy\n",
      "\n",
      "\n",
      "The following packages will be downloaded:\n",
      "\n",
      "    package                    |            build\n",
      "    ---------------------------|-----------------\n",
      "    conda-4.6.7                |           py36_0         869 KB  conda-forge\n",
      "    geographiclib-1.49         |             py_0          32 KB  conda-forge\n",
      "    geopy-1.18.1               |             py_0          51 KB  conda-forge\n",
      "    openssl-1.1.1b             |       h14c3975_0         4.0 MB  conda-forge\n",
      "    ------------------------------------------------------------\n",
      "                                           Total:         4.9 MB\n",
      "\n",
      "The following NEW packages will be INSTALLED:\n",
      "\n",
      "  geographiclib      conda-forge/noarch::geographiclib-1.49-py_0\n",
      "\n",
      "The following packages will be UPDATED:\n",
      "\n",
      "  conda                                        4.6.4-py36_0 --> 4.6.7-py36_0\n",
      "  geopy              conda-forge/linux-64::geopy-1.11.0-py~ --> conda-forge/noarch::geopy-1.18.1-py_0\n",
      "  openssl                              1.1.1a-h14c3975_1000 --> 1.1.1b-h14c3975_0\n",
      "\n",
      "\n",
      "\n",
      "Downloading and Extracting Packages\n",
      "geopy-1.18.1         | 51 KB     | ##################################### | 100% \n",
      "conda-4.6.7          | 869 KB    | ##################################### | 100% \n",
      "geographiclib-1.49   | 32 KB     | ##################################### | 100% \n",
      "openssl-1.1.1b       | 4.0 MB    | ##################################### | 100% \n",
      "Preparing transaction: done\n",
      "Verifying transaction: done\n",
      "Executing transaction: done\n",
      "Collecting package metadata: done\n",
      "Solving environment: done\n",
      "\n",
      "# All requested packages already installed.\n",
      "\n",
      "Folium installed\n",
      "Libraries imported.\n"
     ]
    }
   ],
   "source": [
    "import requests # library to handle requests\n",
    "import pandas as pd # library for data analsysis\n",
    "import numpy as np # library to handle data in a vectorized manner\n",
    "import random # library for random number generation\n",
    "\n",
    "!conda install -c conda-forge geopy --yes \n",
    "from geopy.geocoders import Nominatim # module to convert an address into latitude and longitude values\n",
    "\n",
    "# libraries for displaying images\n",
    "from IPython.display import Image \n",
    "from IPython.core.display import HTML \n",
    "    \n",
    "# tranforming json file into a pandas dataframe library\n",
    "from pandas.io.json import json_normalize\n",
    "\n",
    "!conda install -c conda-forge folium=0.5.0 --yes\n",
    "import folium # plotting library\n",
    "\n",
    "print('Folium installed')\n",
    "print('Libraries imported.')"
   ]
  },
  {
   "cell_type": "markdown",
   "metadata": {
    "button": false,
    "deletable": true,
    "new_sheet": false,
    "run_control": {
     "read_only": false
    }
   },
   "source": [
    "### Define Foursquare Credentials and Version"
   ]
  },
  {
   "cell_type": "markdown",
   "metadata": {
    "button": false,
    "deletable": true,
    "new_sheet": false,
    "run_control": {
     "read_only": false
    }
   },
   "source": [
    "##### Make sure that you have created a Foursquare developer account and have your credentials handy"
   ]
  },
  {
   "cell_type": "code",
   "execution_count": 2,
   "metadata": {
    "button": false,
    "collapsed": false,
    "deletable": true,
    "new_sheet": false,
    "run_control": {
     "read_only": false
    }
   },
   "outputs": [
    {
     "name": "stdout",
     "output_type": "stream",
     "text": [
      "Your credentials:\n",
      "CLIENT_ID: HPPNIJVXOZNEQNVAXEZ0DMOID0RY3QWDRGISE03M2GQ3OE0D\n",
      "CLIENT_SECRET:DXZVUECBAG4V1S2W5SW0OD2YAJBMN1W3D4DQIDYSKX2JTB2H\n"
     ]
    }
   ],
   "source": [
    "CLIENT_ID = 'HPPNIJVXOZNEQNVAXEZ0DMOID0RY3QWDRGISE03M2GQ3OE0D' # your Foursquare ID\n",
    "CLIENT_SECRET = 'DXZVUECBAG4V1S2W5SW0OD2YAJBMN1W3D4DQIDYSKX2JTB2H' # your Foursquare Secret\n",
    "VERSION = '20180604'\n",
    "LIMIT = 30\n",
    "print('Your credentials:')\n",
    "print('CLIENT_ID: ' + CLIENT_ID)\n",
    "print('CLIENT_SECRET:' + CLIENT_SECRET)"
   ]
  },
  {
   "cell_type": "markdown",
   "metadata": {
    "button": false,
    "deletable": true,
    "new_sheet": false,
    "run_control": {
     "read_only": false
    }
   },
   "source": [
    "  "
   ]
  },
  {
   "cell_type": "markdown",
   "metadata": {
    "button": false,
    "deletable": true,
    "new_sheet": false,
    "run_control": {
     "read_only": false
    }
   },
   "source": [
    "#### Let's again assume that you are staying at the Conrad hotel. So let's start by converting the Contrad Hotel's address to its latitude and longitude coordinates."
   ]
  },
  {
   "cell_type": "markdown",
   "metadata": {},
   "source": [
    "In order to define an instance of the geocoder, we need to define a user_agent. We will name our agent <em>foursquare_agent</em>, as shown below."
   ]
  },
  {
   "cell_type": "code",
   "execution_count": 3,
   "metadata": {
    "button": false,
    "collapsed": false,
    "deletable": true,
    "new_sheet": false,
    "run_control": {
     "read_only": false
    }
   },
   "outputs": [
    {
     "name": "stdout",
     "output_type": "stream",
     "text": [
      "40.7149555 -74.0153365\n"
     ]
    }
   ],
   "source": [
    "address = '102 North End Ave, New York, NY'\n",
    "\n",
    "geolocator = Nominatim(user_agent=\"foursquare_agent\")\n",
    "location = geolocator.geocode(address)\n",
    "latitude = location.latitude\n",
    "longitude = location.longitude\n",
    "print(latitude, longitude)"
   ]
  },
  {
   "cell_type": "markdown",
   "metadata": {
    "button": false,
    "deletable": true,
    "new_sheet": false,
    "run_control": {
     "read_only": false
    }
   },
   "source": [
    "   "
   ]
  },
  {
   "cell_type": "markdown",
   "metadata": {
    "button": false,
    "deletable": true,
    "new_sheet": false,
    "run_control": {
     "read_only": false
    }
   },
   "source": [
    "<a id=\"item1\"></a>"
   ]
  },
  {
   "cell_type": "markdown",
   "metadata": {
    "button": false,
    "deletable": true,
    "new_sheet": false,
    "run_control": {
     "read_only": false
    }
   },
   "source": [
    "## 1. Search for a specific venue category\n",
    "> `https://api.foursquare.com/v2/venues/`**search**`?client_id=`**CLIENT_ID**`&client_secret=`**CLIENT_SECRET**`&ll=`**LATITUDE**`,`**LONGITUDE**`&v=`**VERSION**`&query=`**QUERY**`&radius=`**RADIUS**`&limit=`**LIMIT**"
   ]
  },
  {
   "cell_type": "markdown",
   "metadata": {
    "button": false,
    "deletable": true,
    "new_sheet": false,
    "run_control": {
     "read_only": false
    }
   },
   "source": [
    "#### Now, let's assume that it is lunch time, and you are craving Italian food. So, let's define a query to search for Italian food that is within 500 metres from the Conrad Hotel. "
   ]
  },
  {
   "cell_type": "code",
   "execution_count": 4,
   "metadata": {
    "button": false,
    "collapsed": false,
    "deletable": true,
    "new_sheet": false,
    "run_control": {
     "read_only": false
    },
    "scrolled": true
   },
   "outputs": [
    {
     "name": "stdout",
     "output_type": "stream",
     "text": [
      "Italian .... OK!\n"
     ]
    }
   ],
   "source": [
    "search_query = 'Italian'\n",
    "radius = 500\n",
    "print(search_query + ' .... OK!')"
   ]
  },
  {
   "cell_type": "markdown",
   "metadata": {
    "button": false,
    "deletable": true,
    "new_sheet": false,
    "run_control": {
     "read_only": false
    }
   },
   "source": [
    "#### Define the corresponding URL"
   ]
  },
  {
   "cell_type": "code",
   "execution_count": 5,
   "metadata": {
    "button": false,
    "collapsed": false,
    "deletable": true,
    "new_sheet": false,
    "run_control": {
     "read_only": false
    }
   },
   "outputs": [
    {
     "data": {
      "text/plain": [
       "'https://api.foursquare.com/v2/venues/search?client_id=HPPNIJVXOZNEQNVAXEZ0DMOID0RY3QWDRGISE03M2GQ3OE0D&client_secret=DXZVUECBAG4V1S2W5SW0OD2YAJBMN1W3D4DQIDYSKX2JTB2H&ll=40.7149555,-74.0153365&v=20180604&query=Italian&radius=500&limit=30'"
      ]
     },
     "execution_count": 5,
     "metadata": {},
     "output_type": "execute_result"
    }
   ],
   "source": [
    "url = 'https://api.foursquare.com/v2/venues/search?client_id={}&client_secret={}&ll={},{}&v={}&query={}&radius={}&limit={}'.format(CLIENT_ID, CLIENT_SECRET, latitude, longitude, VERSION, search_query, radius, LIMIT)\n",
    "url"
   ]
  },
  {
   "cell_type": "markdown",
   "metadata": {
    "button": false,
    "deletable": true,
    "new_sheet": false,
    "run_control": {
     "read_only": false
    }
   },
   "source": [
    "#### Send the GET Request and examine the results"
   ]
  },
  {
   "cell_type": "code",
   "execution_count": 8,
   "metadata": {
    "button": false,
    "collapsed": false,
    "deletable": true,
    "new_sheet": false,
    "run_control": {
     "read_only": false
    },
    "scrolled": true
   },
   "outputs": [
    {
     "data": {
      "text/plain": [
       "{'meta': {'code': 200, 'requestId': '5c7cf029351e3d13a7c726b3'},\n",
       " 'response': {'venues': [{'id': '4fa862b3e4b0ebff2f749f06',\n",
       "    'name': \"Harry's Italian Pizza Bar\",\n",
       "    'location': {'address': '225 Murray St',\n",
       "     'lat': 40.71521779064671,\n",
       "     'lng': -74.01473940209351,\n",
       "     'labeledLatLngs': [{'label': 'display',\n",
       "       'lat': 40.71521779064671,\n",
       "       'lng': -74.01473940209351}],\n",
       "     'distance': 58,\n",
       "     'postalCode': '10282',\n",
       "     'cc': 'US',\n",
       "     'city': 'New York',\n",
       "     'state': 'NY',\n",
       "     'country': 'United States',\n",
       "     'formattedAddress': ['225 Murray St',\n",
       "      'New York, NY 10282',\n",
       "      'United States']},\n",
       "    'categories': [{'id': '4bf58dd8d48988d1ca941735',\n",
       "      'name': 'Pizza Place',\n",
       "      'pluralName': 'Pizza Places',\n",
       "      'shortName': 'Pizza',\n",
       "      'icon': {'prefix': 'https://ss3.4sqi.net/img/categories_v2/food/pizza_',\n",
       "       'suffix': '.png'},\n",
       "      'primary': True}],\n",
       "    'delivery': {'id': '294544',\n",
       "     'url': 'https://www.seamless.com/menu/harrys-italian-pizza-bar-225-murray-st-new-york/294544?affiliate=1131&utm_source=foursquare-affiliate-network&utm_medium=affiliate&utm_campaign=1131&utm_content=294544',\n",
       "     'provider': {'name': 'seamless',\n",
       "      'icon': {'prefix': 'https://fastly.4sqi.net/img/general/cap/',\n",
       "       'sizes': [40, 50],\n",
       "       'name': '/delivery_provider_seamless_20180129.png'}}},\n",
       "    'referralId': 'v-1551691817',\n",
       "    'hasPerk': False},\n",
       "   {'id': '4f3232e219836c91c7bfde94',\n",
       "    'name': 'Conca Cucina Italian Restaurant',\n",
       "    'location': {'address': '63 W Broadway',\n",
       "     'lat': 40.71446,\n",
       "     'lng': -74.010086,\n",
       "     'labeledLatLngs': [{'label': 'display',\n",
       "       'lat': 40.71446,\n",
       "       'lng': -74.010086}],\n",
       "     'distance': 446,\n",
       "     'postalCode': '10007',\n",
       "     'cc': 'US',\n",
       "     'city': 'New York',\n",
       "     'state': 'NY',\n",
       "     'country': 'United States',\n",
       "     'formattedAddress': ['63 W Broadway',\n",
       "      'New York, NY 10007',\n",
       "      'United States']},\n",
       "    'categories': [{'id': '4d4b7105d754a06374d81259',\n",
       "      'name': 'Food',\n",
       "      'pluralName': 'Food',\n",
       "      'shortName': 'Food',\n",
       "      'icon': {'prefix': 'https://ss3.4sqi.net/img/categories_v2/food/default_',\n",
       "       'suffix': '.png'},\n",
       "      'primary': True}],\n",
       "    'referralId': 'v-1551691817',\n",
       "    'hasPerk': False},\n",
       "   {'id': '3fd66200f964a520f4e41ee3',\n",
       "    'name': 'Ecco',\n",
       "    'location': {'address': '124 Chambers St',\n",
       "     'crossStreet': 'btwn Church St & W Broadway',\n",
       "     'lat': 40.71533713859952,\n",
       "     'lng': -74.00884766217825,\n",
       "     'labeledLatLngs': [{'label': 'display',\n",
       "       'lat': 40.71533713859952,\n",
       "       'lng': -74.00884766217825}],\n",
       "     'distance': 549,\n",
       "     'postalCode': '10007',\n",
       "     'cc': 'US',\n",
       "     'city': 'New York',\n",
       "     'state': 'NY',\n",
       "     'country': 'United States',\n",
       "     'formattedAddress': ['124 Chambers St (btwn Church St & W Broadway)',\n",
       "      'New York, NY 10007',\n",
       "      'United States']},\n",
       "    'categories': [{'id': '4bf58dd8d48988d110941735',\n",
       "      'name': 'Italian Restaurant',\n",
       "      'pluralName': 'Italian Restaurants',\n",
       "      'shortName': 'Italian',\n",
       "      'icon': {'prefix': 'https://ss3.4sqi.net/img/categories_v2/food/italian_',\n",
       "       'suffix': '.png'},\n",
       "      'primary': True}],\n",
       "    'referralId': 'v-1551691817',\n",
       "    'hasPerk': False}]}}"
      ]
     },
     "execution_count": 8,
     "metadata": {},
     "output_type": "execute_result"
    }
   ],
   "source": [
    "results = requests.get(url).json()\n",
    "results"
   ]
  },
  {
   "cell_type": "markdown",
   "metadata": {
    "button": false,
    "deletable": true,
    "new_sheet": false,
    "run_control": {
     "read_only": false
    }
   },
   "source": [
    "#### Get relevant part of JSON and transform it into a *pandas* dataframe"
   ]
  },
  {
   "cell_type": "code",
   "execution_count": 9,
   "metadata": {
    "button": false,
    "collapsed": false,
    "deletable": true,
    "new_sheet": false,
    "run_control": {
     "read_only": false
    }
   },
   "outputs": [
    {
     "data": {
      "text/html": [
       "<div>\n",
       "<style scoped>\n",
       "    .dataframe tbody tr th:only-of-type {\n",
       "        vertical-align: middle;\n",
       "    }\n",
       "\n",
       "    .dataframe tbody tr th {\n",
       "        vertical-align: top;\n",
       "    }\n",
       "\n",
       "    .dataframe thead th {\n",
       "        text-align: right;\n",
       "    }\n",
       "</style>\n",
       "<table border=\"1\" class=\"dataframe\">\n",
       "  <thead>\n",
       "    <tr style=\"text-align: right;\">\n",
       "      <th></th>\n",
       "      <th>categories</th>\n",
       "      <th>delivery.id</th>\n",
       "      <th>delivery.provider.icon.name</th>\n",
       "      <th>delivery.provider.icon.prefix</th>\n",
       "      <th>delivery.provider.icon.sizes</th>\n",
       "      <th>delivery.provider.name</th>\n",
       "      <th>delivery.url</th>\n",
       "      <th>hasPerk</th>\n",
       "      <th>id</th>\n",
       "      <th>location.address</th>\n",
       "      <th>...</th>\n",
       "      <th>location.crossStreet</th>\n",
       "      <th>location.distance</th>\n",
       "      <th>location.formattedAddress</th>\n",
       "      <th>location.labeledLatLngs</th>\n",
       "      <th>location.lat</th>\n",
       "      <th>location.lng</th>\n",
       "      <th>location.postalCode</th>\n",
       "      <th>location.state</th>\n",
       "      <th>name</th>\n",
       "      <th>referralId</th>\n",
       "    </tr>\n",
       "  </thead>\n",
       "  <tbody>\n",
       "    <tr>\n",
       "      <th>0</th>\n",
       "      <td>[{'id': '4bf58dd8d48988d1ca941735', 'name': 'P...</td>\n",
       "      <td>294544</td>\n",
       "      <td>/delivery_provider_seamless_20180129.png</td>\n",
       "      <td>https://fastly.4sqi.net/img/general/cap/</td>\n",
       "      <td>[40, 50]</td>\n",
       "      <td>seamless</td>\n",
       "      <td>https://www.seamless.com/menu/harrys-italian-p...</td>\n",
       "      <td>False</td>\n",
       "      <td>4fa862b3e4b0ebff2f749f06</td>\n",
       "      <td>225 Murray St</td>\n",
       "      <td>...</td>\n",
       "      <td>NaN</td>\n",
       "      <td>58</td>\n",
       "      <td>[225 Murray St, New York, NY 10282, United Sta...</td>\n",
       "      <td>[{'label': 'display', 'lat': 40.71521779064671...</td>\n",
       "      <td>40.715218</td>\n",
       "      <td>-74.014739</td>\n",
       "      <td>10282</td>\n",
       "      <td>NY</td>\n",
       "      <td>Harry's Italian Pizza Bar</td>\n",
       "      <td>v-1551691817</td>\n",
       "    </tr>\n",
       "    <tr>\n",
       "      <th>1</th>\n",
       "      <td>[{'id': '4d4b7105d754a06374d81259', 'name': 'F...</td>\n",
       "      <td>NaN</td>\n",
       "      <td>NaN</td>\n",
       "      <td>NaN</td>\n",
       "      <td>NaN</td>\n",
       "      <td>NaN</td>\n",
       "      <td>NaN</td>\n",
       "      <td>False</td>\n",
       "      <td>4f3232e219836c91c7bfde94</td>\n",
       "      <td>63 W Broadway</td>\n",
       "      <td>...</td>\n",
       "      <td>NaN</td>\n",
       "      <td>446</td>\n",
       "      <td>[63 W Broadway, New York, NY 10007, United Sta...</td>\n",
       "      <td>[{'label': 'display', 'lat': 40.71446, 'lng': ...</td>\n",
       "      <td>40.714460</td>\n",
       "      <td>-74.010086</td>\n",
       "      <td>10007</td>\n",
       "      <td>NY</td>\n",
       "      <td>Conca Cucina Italian Restaurant</td>\n",
       "      <td>v-1551691817</td>\n",
       "    </tr>\n",
       "    <tr>\n",
       "      <th>2</th>\n",
       "      <td>[{'id': '4bf58dd8d48988d110941735', 'name': 'I...</td>\n",
       "      <td>NaN</td>\n",
       "      <td>NaN</td>\n",
       "      <td>NaN</td>\n",
       "      <td>NaN</td>\n",
       "      <td>NaN</td>\n",
       "      <td>NaN</td>\n",
       "      <td>False</td>\n",
       "      <td>3fd66200f964a520f4e41ee3</td>\n",
       "      <td>124 Chambers St</td>\n",
       "      <td>...</td>\n",
       "      <td>btwn Church St &amp; W Broadway</td>\n",
       "      <td>549</td>\n",
       "      <td>[124 Chambers St (btwn Church St &amp; W Broadway)...</td>\n",
       "      <td>[{'label': 'display', 'lat': 40.71533713859952...</td>\n",
       "      <td>40.715337</td>\n",
       "      <td>-74.008848</td>\n",
       "      <td>10007</td>\n",
       "      <td>NY</td>\n",
       "      <td>Ecco</td>\n",
       "      <td>v-1551691817</td>\n",
       "    </tr>\n",
       "  </tbody>\n",
       "</table>\n",
       "<p>3 rows × 23 columns</p>\n",
       "</div>"
      ],
      "text/plain": [
       "                                          categories delivery.id  \\\n",
       "0  [{'id': '4bf58dd8d48988d1ca941735', 'name': 'P...      294544   \n",
       "1  [{'id': '4d4b7105d754a06374d81259', 'name': 'F...         NaN   \n",
       "2  [{'id': '4bf58dd8d48988d110941735', 'name': 'I...         NaN   \n",
       "\n",
       "                delivery.provider.icon.name  \\\n",
       "0  /delivery_provider_seamless_20180129.png   \n",
       "1                                       NaN   \n",
       "2                                       NaN   \n",
       "\n",
       "              delivery.provider.icon.prefix delivery.provider.icon.sizes  \\\n",
       "0  https://fastly.4sqi.net/img/general/cap/                     [40, 50]   \n",
       "1                                       NaN                          NaN   \n",
       "2                                       NaN                          NaN   \n",
       "\n",
       "  delivery.provider.name                                       delivery.url  \\\n",
       "0               seamless  https://www.seamless.com/menu/harrys-italian-p...   \n",
       "1                    NaN                                                NaN   \n",
       "2                    NaN                                                NaN   \n",
       "\n",
       "   hasPerk                        id location.address  ...  \\\n",
       "0    False  4fa862b3e4b0ebff2f749f06    225 Murray St  ...   \n",
       "1    False  4f3232e219836c91c7bfde94    63 W Broadway  ...   \n",
       "2    False  3fd66200f964a520f4e41ee3  124 Chambers St  ...   \n",
       "\n",
       "          location.crossStreet location.distance  \\\n",
       "0                          NaN                58   \n",
       "1                          NaN               446   \n",
       "2  btwn Church St & W Broadway               549   \n",
       "\n",
       "                           location.formattedAddress  \\\n",
       "0  [225 Murray St, New York, NY 10282, United Sta...   \n",
       "1  [63 W Broadway, New York, NY 10007, United Sta...   \n",
       "2  [124 Chambers St (btwn Church St & W Broadway)...   \n",
       "\n",
       "                             location.labeledLatLngs  location.lat  \\\n",
       "0  [{'label': 'display', 'lat': 40.71521779064671...     40.715218   \n",
       "1  [{'label': 'display', 'lat': 40.71446, 'lng': ...     40.714460   \n",
       "2  [{'label': 'display', 'lat': 40.71533713859952...     40.715337   \n",
       "\n",
       "  location.lng location.postalCode  location.state  \\\n",
       "0   -74.014739               10282              NY   \n",
       "1   -74.010086               10007              NY   \n",
       "2   -74.008848               10007              NY   \n",
       "\n",
       "                              name    referralId  \n",
       "0        Harry's Italian Pizza Bar  v-1551691817  \n",
       "1  Conca Cucina Italian Restaurant  v-1551691817  \n",
       "2                             Ecco  v-1551691817  \n",
       "\n",
       "[3 rows x 23 columns]"
      ]
     },
     "execution_count": 9,
     "metadata": {},
     "output_type": "execute_result"
    }
   ],
   "source": [
    "# assign relevant part of JSON to venues\n",
    "venues = results['response']['venues']\n",
    "\n",
    "# tranform venues into a dataframe\n",
    "dataframe = json_normalize(venues)\n",
    "dataframe.head()"
   ]
  },
  {
   "cell_type": "markdown",
   "metadata": {
    "button": false,
    "deletable": true,
    "new_sheet": false,
    "run_control": {
     "read_only": false
    }
   },
   "source": [
    "#### Define information of interest and filter dataframe"
   ]
  },
  {
   "cell_type": "code",
   "execution_count": 10,
   "metadata": {
    "button": false,
    "collapsed": false,
    "deletable": true,
    "new_sheet": false,
    "run_control": {
     "read_only": false
    },
    "scrolled": true
   },
   "outputs": [
    {
     "data": {
      "text/html": [
       "<div>\n",
       "<style scoped>\n",
       "    .dataframe tbody tr th:only-of-type {\n",
       "        vertical-align: middle;\n",
       "    }\n",
       "\n",
       "    .dataframe tbody tr th {\n",
       "        vertical-align: top;\n",
       "    }\n",
       "\n",
       "    .dataframe thead th {\n",
       "        text-align: right;\n",
       "    }\n",
       "</style>\n",
       "<table border=\"1\" class=\"dataframe\">\n",
       "  <thead>\n",
       "    <tr style=\"text-align: right;\">\n",
       "      <th></th>\n",
       "      <th>name</th>\n",
       "      <th>categories</th>\n",
       "      <th>address</th>\n",
       "      <th>cc</th>\n",
       "      <th>city</th>\n",
       "      <th>country</th>\n",
       "      <th>crossStreet</th>\n",
       "      <th>distance</th>\n",
       "      <th>formattedAddress</th>\n",
       "      <th>labeledLatLngs</th>\n",
       "      <th>lat</th>\n",
       "      <th>lng</th>\n",
       "      <th>postalCode</th>\n",
       "      <th>state</th>\n",
       "      <th>id</th>\n",
       "    </tr>\n",
       "  </thead>\n",
       "  <tbody>\n",
       "    <tr>\n",
       "      <th>0</th>\n",
       "      <td>Harry's Italian Pizza Bar</td>\n",
       "      <td>Pizza Place</td>\n",
       "      <td>225 Murray St</td>\n",
       "      <td>US</td>\n",
       "      <td>New York</td>\n",
       "      <td>United States</td>\n",
       "      <td>NaN</td>\n",
       "      <td>58</td>\n",
       "      <td>[225 Murray St, New York, NY 10282, United Sta...</td>\n",
       "      <td>[{'label': 'display', 'lat': 40.71521779064671...</td>\n",
       "      <td>40.715218</td>\n",
       "      <td>-74.014739</td>\n",
       "      <td>10282</td>\n",
       "      <td>NY</td>\n",
       "      <td>4fa862b3e4b0ebff2f749f06</td>\n",
       "    </tr>\n",
       "    <tr>\n",
       "      <th>1</th>\n",
       "      <td>Conca Cucina Italian Restaurant</td>\n",
       "      <td>Food</td>\n",
       "      <td>63 W Broadway</td>\n",
       "      <td>US</td>\n",
       "      <td>New York</td>\n",
       "      <td>United States</td>\n",
       "      <td>NaN</td>\n",
       "      <td>446</td>\n",
       "      <td>[63 W Broadway, New York, NY 10007, United Sta...</td>\n",
       "      <td>[{'label': 'display', 'lat': 40.71446, 'lng': ...</td>\n",
       "      <td>40.714460</td>\n",
       "      <td>-74.010086</td>\n",
       "      <td>10007</td>\n",
       "      <td>NY</td>\n",
       "      <td>4f3232e219836c91c7bfde94</td>\n",
       "    </tr>\n",
       "    <tr>\n",
       "      <th>2</th>\n",
       "      <td>Ecco</td>\n",
       "      <td>Italian Restaurant</td>\n",
       "      <td>124 Chambers St</td>\n",
       "      <td>US</td>\n",
       "      <td>New York</td>\n",
       "      <td>United States</td>\n",
       "      <td>btwn Church St &amp; W Broadway</td>\n",
       "      <td>549</td>\n",
       "      <td>[124 Chambers St (btwn Church St &amp; W Broadway)...</td>\n",
       "      <td>[{'label': 'display', 'lat': 40.71533713859952...</td>\n",
       "      <td>40.715337</td>\n",
       "      <td>-74.008848</td>\n",
       "      <td>10007</td>\n",
       "      <td>NY</td>\n",
       "      <td>3fd66200f964a520f4e41ee3</td>\n",
       "    </tr>\n",
       "  </tbody>\n",
       "</table>\n",
       "</div>"
      ],
      "text/plain": [
       "                              name          categories          address  cc  \\\n",
       "0        Harry's Italian Pizza Bar         Pizza Place    225 Murray St  US   \n",
       "1  Conca Cucina Italian Restaurant                Food    63 W Broadway  US   \n",
       "2                             Ecco  Italian Restaurant  124 Chambers St  US   \n",
       "\n",
       "       city        country                  crossStreet  distance  \\\n",
       "0  New York  United States                          NaN        58   \n",
       "1  New York  United States                          NaN       446   \n",
       "2  New York  United States  btwn Church St & W Broadway       549   \n",
       "\n",
       "                                    formattedAddress  \\\n",
       "0  [225 Murray St, New York, NY 10282, United Sta...   \n",
       "1  [63 W Broadway, New York, NY 10007, United Sta...   \n",
       "2  [124 Chambers St (btwn Church St & W Broadway)...   \n",
       "\n",
       "                                      labeledLatLngs        lat        lng  \\\n",
       "0  [{'label': 'display', 'lat': 40.71521779064671...  40.715218 -74.014739   \n",
       "1  [{'label': 'display', 'lat': 40.71446, 'lng': ...  40.714460 -74.010086   \n",
       "2  [{'label': 'display', 'lat': 40.71533713859952...  40.715337 -74.008848   \n",
       "\n",
       "  postalCode state                        id  \n",
       "0      10282    NY  4fa862b3e4b0ebff2f749f06  \n",
       "1      10007    NY  4f3232e219836c91c7bfde94  \n",
       "2      10007    NY  3fd66200f964a520f4e41ee3  "
      ]
     },
     "execution_count": 10,
     "metadata": {},
     "output_type": "execute_result"
    }
   ],
   "source": [
    "# keep only columns that include venue name, and anything that is associated with location\n",
    "filtered_columns = ['name', 'categories'] + [col for col in dataframe.columns if col.startswith('location.')] + ['id']\n",
    "dataframe_filtered = dataframe.loc[:, filtered_columns]\n",
    "\n",
    "# function that extracts the category of the venue\n",
    "def get_category_type(row):\n",
    "    try:\n",
    "        categories_list = row['categories']\n",
    "    except:\n",
    "        categories_list = row['venue.categories']\n",
    "        \n",
    "    if len(categories_list) == 0:\n",
    "        return None\n",
    "    else:\n",
    "        return categories_list[0]['name']\n",
    "\n",
    "# filter the category for each row\n",
    "dataframe_filtered['categories'] = dataframe_filtered.apply(get_category_type, axis=1)\n",
    "\n",
    "# clean column names by keeping only last term\n",
    "dataframe_filtered.columns = [column.split('.')[-1] for column in dataframe_filtered.columns]\n",
    "\n",
    "dataframe_filtered"
   ]
  },
  {
   "cell_type": "markdown",
   "metadata": {
    "button": false,
    "deletable": true,
    "new_sheet": false,
    "run_control": {
     "read_only": false
    }
   },
   "source": [
    "#### Let's visualize the Italian restaurants that are nearby"
   ]
  },
  {
   "cell_type": "code",
   "execution_count": 11,
   "metadata": {
    "button": false,
    "collapsed": false,
    "deletable": true,
    "new_sheet": false,
    "run_control": {
     "read_only": false
    }
   },
   "outputs": [
    {
     "data": {
      "text/plain": [
       "0          Harry's Italian Pizza Bar\n",
       "1    Conca Cucina Italian Restaurant\n",
       "2                               Ecco\n",
       "Name: name, dtype: object"
      ]
     },
     "execution_count": 11,
     "metadata": {},
     "output_type": "execute_result"
    }
   ],
   "source": [
    "dataframe_filtered.name"
   ]
  },
  {
   "cell_type": "code",
   "execution_count": 12,
   "metadata": {
    "button": false,
    "collapsed": false,
    "deletable": true,
    "new_sheet": false,
    "run_control": {
     "read_only": false
    },
    "scrolled": false
   },
   "outputs": [
    {
     "data": {
      "text/html": [
       "<div style=\"width:100%;\"><div style=\"position:relative;width:100%;height:0;padding-bottom:60%;\"><iframe src=\"data:text/html;charset=utf-8;base64,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\" style=\"position:absolute;width:100%;height:100%;left:0;top:0;border:none !important;\" allowfullscreen webkitallowfullscreen mozallowfullscreen></iframe></div></div>"
      ],
      "text/plain": [
       "<folium.folium.Map at 0x7f0e3fa57668>"
      ]
     },
     "execution_count": 12,
     "metadata": {},
     "output_type": "execute_result"
    }
   ],
   "source": [
    "venues_map = folium.Map(location=[latitude, longitude], zoom_start=13) # generate map centred around the Conrad Hotel\n",
    "\n",
    "# add a red circle marker to represent the Conrad Hotel\n",
    "folium.features.CircleMarker(\n",
    "    [latitude, longitude],\n",
    "    radius=10,\n",
    "    color='red',\n",
    "    popup='Conrad Hotel',\n",
    "    fill = True,\n",
    "    fill_color = 'red',\n",
    "    fill_opacity = 0.6\n",
    ").add_to(venues_map)\n",
    "\n",
    "# add the Italian restaurants as blue circle markers\n",
    "for lat, lng, label in zip(dataframe_filtered.lat, dataframe_filtered.lng, dataframe_filtered.categories):\n",
    "    folium.features.CircleMarker(\n",
    "        [lat, lng],\n",
    "        radius=5,\n",
    "        color='blue',\n",
    "        popup=label,\n",
    "        fill = True,\n",
    "        fill_color='blue',\n",
    "        fill_opacity=0.6\n",
    "    ).add_to(venues_map)\n",
    "\n",
    "# display map\n",
    "venues_map"
   ]
  },
  {
   "cell_type": "markdown",
   "metadata": {
    "button": false,
    "deletable": true,
    "new_sheet": false,
    "run_control": {
     "read_only": false
    }
   },
   "source": [
    "   "
   ]
  },
  {
   "cell_type": "markdown",
   "metadata": {
    "button": false,
    "deletable": true,
    "new_sheet": false,
    "run_control": {
     "read_only": false
    }
   },
   "source": [
    "<a id=\"item2\"></a>"
   ]
  },
  {
   "cell_type": "markdown",
   "metadata": {
    "button": false,
    "deletable": true,
    "new_sheet": false,
    "run_control": {
     "read_only": false
    }
   },
   "source": [
    "## 2. Explore a Given Venue\n",
    "> `https://api.foursquare.com/v2/venues/`**VENUE_ID**`?client_id=`**CLIENT_ID**`&client_secret=`**CLIENT_SECRET**`&v=`**VERSION**"
   ]
  },
  {
   "cell_type": "markdown",
   "metadata": {
    "button": false,
    "deletable": true,
    "new_sheet": false,
    "run_control": {
     "read_only": false
    }
   },
   "source": [
    "### A. Let's explore the closest Italian restaurant -- _Harry's Italian Pizza Bar_"
   ]
  },
  {
   "cell_type": "code",
   "execution_count": 13,
   "metadata": {
    "button": false,
    "collapsed": false,
    "deletable": true,
    "new_sheet": false,
    "run_control": {
     "read_only": false
    }
   },
   "outputs": [
    {
     "data": {
      "text/plain": [
       "'https://api.foursquare.com/v2/venues/4fa862b3e4b0ebff2f749f06?client_id=HPPNIJVXOZNEQNVAXEZ0DMOID0RY3QWDRGISE03M2GQ3OE0D&client_secret=DXZVUECBAG4V1S2W5SW0OD2YAJBMN1W3D4DQIDYSKX2JTB2H&v=20180604'"
      ]
     },
     "execution_count": 13,
     "metadata": {},
     "output_type": "execute_result"
    }
   ],
   "source": [
    "venue_id = '4fa862b3e4b0ebff2f749f06' # ID of Harry's Italian Pizza Bar\n",
    "url = 'https://api.foursquare.com/v2/venues/{}?client_id={}&client_secret={}&v={}'.format(venue_id, CLIENT_ID, CLIENT_SECRET, VERSION)\n",
    "url"
   ]
  },
  {
   "cell_type": "markdown",
   "metadata": {
    "button": false,
    "deletable": true,
    "new_sheet": false,
    "run_control": {
     "read_only": false
    }
   },
   "source": [
    "#### Send GET request for result"
   ]
  },
  {
   "cell_type": "code",
   "execution_count": 14,
   "metadata": {
    "button": false,
    "collapsed": false,
    "deletable": true,
    "new_sheet": false,
    "run_control": {
     "read_only": false
    }
   },
   "outputs": [
    {
     "name": "stdout",
     "output_type": "stream",
     "text": [
      "dict_keys(['id', 'name', 'contact', 'location', 'canonicalUrl', 'categories', 'verified', 'stats', 'url', 'price', 'hasMenu', 'likes', 'dislike', 'ok', 'rating', 'ratingColor', 'ratingSignals', 'delivery', 'menu', 'allowMenuUrlEdit', 'beenHere', 'specials', 'photos', 'reasons', 'hereNow', 'createdAt', 'tips', 'shortUrl', 'timeZone', 'listed', 'hours', 'popular', 'pageUpdates', 'inbox', 'attributes', 'bestPhoto', 'colors'])\n"
     ]
    },
    {
     "data": {
      "text/plain": [
       "{'id': '4fa862b3e4b0ebff2f749f06',\n",
       " 'name': \"Harry's Italian Pizza Bar\",\n",
       " 'contact': {'phone': '2126081007', 'formattedPhone': '(212) 608-1007'},\n",
       " 'location': {'address': '225 Murray St',\n",
       "  'lat': 40.71521779064671,\n",
       "  'lng': -74.01473940209351,\n",
       "  'labeledLatLngs': [{'label': 'display',\n",
       "    'lat': 40.71521779064671,\n",
       "    'lng': -74.01473940209351}],\n",
       "  'postalCode': '10282',\n",
       "  'cc': 'US',\n",
       "  'city': 'New York',\n",
       "  'state': 'NY',\n",
       "  'country': 'United States',\n",
       "  'formattedAddress': ['225 Murray St',\n",
       "   'New York, NY 10282',\n",
       "   'United States']},\n",
       " 'canonicalUrl': 'https://foursquare.com/v/harrys-italian-pizza-bar/4fa862b3e4b0ebff2f749f06',\n",
       " 'categories': [{'id': '4bf58dd8d48988d1ca941735',\n",
       "   'name': 'Pizza Place',\n",
       "   'pluralName': 'Pizza Places',\n",
       "   'shortName': 'Pizza',\n",
       "   'icon': {'prefix': 'https://ss3.4sqi.net/img/categories_v2/food/pizza_',\n",
       "    'suffix': '.png'},\n",
       "   'primary': True},\n",
       "  {'id': '4bf58dd8d48988d110941735',\n",
       "   'name': 'Italian Restaurant',\n",
       "   'pluralName': 'Italian Restaurants',\n",
       "   'shortName': 'Italian',\n",
       "   'icon': {'prefix': 'https://ss3.4sqi.net/img/categories_v2/food/italian_',\n",
       "    'suffix': '.png'}}],\n",
       " 'verified': False,\n",
       " 'stats': {'tipCount': 55},\n",
       " 'url': 'http://harrysitalian.com',\n",
       " 'price': {'tier': 2, 'message': 'Moderate', 'currency': '$'},\n",
       " 'hasMenu': True,\n",
       " 'likes': {'count': 119,\n",
       "  'groups': [{'type': 'others', 'count': 119, 'items': []}],\n",
       "  'summary': '119 Likes'},\n",
       " 'dislike': False,\n",
       " 'ok': False,\n",
       " 'rating': 7.1,\n",
       " 'ratingColor': 'C5DE35',\n",
       " 'ratingSignals': 209,\n",
       " 'delivery': {'id': '294544',\n",
       "  'url': 'https://www.seamless.com/menu/harrys-italian-pizza-bar-225-murray-st-new-york/294544?affiliate=1131&utm_source=foursquare-affiliate-network&utm_medium=affiliate&utm_campaign=1131&utm_content=294544',\n",
       "  'provider': {'name': 'seamless',\n",
       "   'icon': {'prefix': 'https://fastly.4sqi.net/img/general/cap/',\n",
       "    'sizes': [40, 50],\n",
       "    'name': '/delivery_provider_seamless_20180129.png'}}},\n",
       " 'menu': {'type': 'Menu',\n",
       "  'label': 'Menu',\n",
       "  'anchor': 'View Menu',\n",
       "  'url': 'https://foursquare.com/v/harrys-italian-pizza-bar/4fa862b3e4b0ebff2f749f06/menu',\n",
       "  'mobileUrl': 'https://foursquare.com/v/4fa862b3e4b0ebff2f749f06/device_menu'},\n",
       " 'allowMenuUrlEdit': True,\n",
       " 'beenHere': {'count': 0,\n",
       "  'unconfirmedCount': 0,\n",
       "  'marked': False,\n",
       "  'lastCheckinExpiredAt': 0},\n",
       " 'specials': {'count': 0, 'items': []},\n",
       " 'photos': {'count': 146,\n",
       "  'groups': [{'type': 'checkin',\n",
       "    'name': \"Friends' check-in photos\",\n",
       "    'count': 0,\n",
       "    'items': []},\n",
       "   {'type': 'venue',\n",
       "    'name': 'Venue photos',\n",
       "    'count': 146,\n",
       "    'items': [{'id': '4fad980de4b091b4626c3633',\n",
       "      'createdAt': 1336776717,\n",
       "      'source': {'name': 'Foursquare for Android',\n",
       "       'url': 'https://foursquare.com/download/#/android'},\n",
       "      'prefix': 'https://fastly.4sqi.net/img/general/',\n",
       "      'suffix': '/ya1iQFI7pLjuIJp1PGDKlrZS3OJdHCF7tpILMmjv_2w.jpg',\n",
       "      'width': 480,\n",
       "      'height': 640,\n",
       "      'user': {'id': '13676709',\n",
       "       'firstName': 'Leony',\n",
       "       'lastName': 'Naciri',\n",
       "       'gender': 'none',\n",
       "       'photo': {'prefix': 'https://fastly.4sqi.net/img/user/',\n",
       "        'suffix': '/T0ANFNGNMCHUDEUE.jpg'}},\n",
       "      'visibility': 'public'}]}],\n",
       "  'summary': '0 photos'},\n",
       " 'reasons': {'count': 1,\n",
       "  'items': [{'summary': 'Lots of people like this place',\n",
       "    'type': 'general',\n",
       "    'reasonName': 'rawLikesReason'}]},\n",
       " 'hereNow': {'count': 0, 'summary': 'Nobody here', 'groups': []},\n",
       " 'createdAt': 1336435379,\n",
       " 'tips': {'count': 55,\n",
       "  'groups': [{'type': 'others',\n",
       "    'name': 'All tips',\n",
       "    'count': 55,\n",
       "    'items': [{'id': '53d27909498e0523841340b6',\n",
       "      'createdAt': 1406302473,\n",
       "      'text': \"Harry's Italian Pizza bar is known for it's amazing pizza, but did you know that the brunches here are amazing too? Try the Nutella French toast and we know you'll be sold.\",\n",
       "      'type': 'user',\n",
       "      'canonicalUrl': 'https://foursquare.com/item/53d27909498e0523841340b6',\n",
       "      'lang': 'en',\n",
       "      'likes': {'count': 4,\n",
       "       'groups': [{'type': 'others',\n",
       "         'count': 4,\n",
       "         'items': [{'id': '369426',\n",
       "           'firstName': 'P.',\n",
       "           'lastName': 'M.',\n",
       "           'gender': 'male',\n",
       "           'photo': {'prefix': 'https://fastly.4sqi.net/img/user/',\n",
       "            'suffix': '/JPQYUWJKUT0H2OO4.jpg'}},\n",
       "          {'id': '87587879',\n",
       "           'firstName': 'Diane',\n",
       "           'lastName': 'Danneels',\n",
       "           'gender': 'female',\n",
       "           'photo': {'prefix': 'https://fastly.4sqi.net/img/user/',\n",
       "            'suffix': '/87587879-ESLRSZLQ2CBE2P4W.jpg'}},\n",
       "          {'id': '87591341',\n",
       "           'firstName': 'Tim',\n",
       "           'lastName': 'Sheehan',\n",
       "           'gender': 'male',\n",
       "           'photo': {'prefix': 'https://fastly.4sqi.net/img/user/',\n",
       "            'suffix': '/-Z4YK4VKE0JSVXIY1.jpg'}},\n",
       "          {'id': '87473404',\n",
       "           'firstName': 'TenantKing.com',\n",
       "           'gender': 'none',\n",
       "           'photo': {'prefix': 'https://fastly.4sqi.net/img/user/',\n",
       "            'suffix': '/87473404-HI5DTBTK0HX401CA.png'},\n",
       "           'type': 'page'}]}],\n",
       "       'summary': '4 likes'},\n",
       "      'logView': True,\n",
       "      'agreeCount': 4,\n",
       "      'disagreeCount': 0,\n",
       "      'todo': {'count': 0},\n",
       "      'user': {'id': '87473404',\n",
       "       'firstName': 'TenantKing.com',\n",
       "       'gender': 'none',\n",
       "       'photo': {'prefix': 'https://fastly.4sqi.net/img/user/',\n",
       "        'suffix': '/87473404-HI5DTBTK0HX401CA.png'},\n",
       "       'type': 'page'}}]}]},\n",
       " 'shortUrl': 'http://4sq.com/JNblHV',\n",
       " 'timeZone': 'America/New_York',\n",
       " 'listed': {'count': 50,\n",
       "  'groups': [{'type': 'others',\n",
       "    'name': 'Lists from other people',\n",
       "    'count': 50,\n",
       "    'items': [{'id': '4fa32fd0e4b04193744746b1',\n",
       "      'name': 'Manhattan Haunts',\n",
       "      'description': '',\n",
       "      'type': 'others',\n",
       "      'user': {'id': '24592223',\n",
       "       'firstName': 'Becca',\n",
       "       'lastName': 'McArthur',\n",
       "       'gender': 'female',\n",
       "       'photo': {'prefix': 'https://fastly.4sqi.net/img/user/',\n",
       "        'suffix': '/24592223-RAW2UYM0GIB1U40K.jpg'}},\n",
       "      'editable': False,\n",
       "      'public': True,\n",
       "      'collaborative': False,\n",
       "      'url': '/becca_mcarthur/list/manhattan-haunts',\n",
       "      'canonicalUrl': 'https://foursquare.com/becca_mcarthur/list/manhattan-haunts',\n",
       "      'createdAt': 1336094672,\n",
       "      'updatedAt': 1380845377,\n",
       "      'photo': {'id': '4e8cc9461081e3b3544e12e5',\n",
       "       'createdAt': 1317849414,\n",
       "       'prefix': 'https://fastly.4sqi.net/img/general/',\n",
       "       'suffix': '/0NLVU2HC1JF4DXIMKWUFW3QBUT31DC11EFNYYHMJG3NDWAPS.jpg',\n",
       "       'width': 492,\n",
       "       'height': 330,\n",
       "       'user': {'id': '742542',\n",
       "        'firstName': 'Time Out New York',\n",
       "        'gender': 'none',\n",
       "        'photo': {'prefix': 'https://fastly.4sqi.net/img/user/',\n",
       "         'suffix': '/XXHKCBSQHBORZNSR.jpg'},\n",
       "        'type': 'page'},\n",
       "       'visibility': 'public'},\n",
       "      'followers': {'count': 22},\n",
       "      'listItems': {'count': 187,\n",
       "       'items': [{'id': 'v4fa862b3e4b0ebff2f749f06',\n",
       "         'createdAt': 1342934485}]}},\n",
       "     {'id': '4fae817be4b085f6b2a74d19',\n",
       "      'name': 'USA NYC MAN FiDi',\n",
       "      'description': 'Where to go for decent eats in the restaurant wasteland of Downtown NYC aka FiDi, along with Tribeca & Battery Park City.',\n",
       "      'type': 'others',\n",
       "      'user': {'id': '12113441',\n",
       "       'firstName': 'Kino',\n",
       "       'gender': 'male',\n",
       "       'photo': {'prefix': 'https://fastly.4sqi.net/img/user/',\n",
       "        'suffix': '/12113441-K5HTHFLU2MUCM0CM.jpg'}},\n",
       "      'editable': False,\n",
       "      'public': True,\n",
       "      'collaborative': False,\n",
       "      'url': '/kinosfault/list/usa-nyc-man-fidi',\n",
       "      'canonicalUrl': 'https://foursquare.com/kinosfault/list/usa-nyc-man-fidi',\n",
       "      'createdAt': 1336836475,\n",
       "      'updatedAt': 1536019882,\n",
       "      'photo': {'id': '55984992498e13ba75e353bb',\n",
       "       'createdAt': 1436043666,\n",
       "       'prefix': 'https://fastly.4sqi.net/img/general/',\n",
       "       'suffix': '/12113441_iOa6Uh-Xi8bhj2-gpzkkw8MKiAIs7RmOcz_RM7m8ink.jpg',\n",
       "       'width': 540,\n",
       "       'height': 960,\n",
       "       'user': {'id': '12113441',\n",
       "        'firstName': 'Kino',\n",
       "        'gender': 'male',\n",
       "        'photo': {'prefix': 'https://fastly.4sqi.net/img/user/',\n",
       "         'suffix': '/12113441-K5HTHFLU2MUCM0CM.jpg'}},\n",
       "       'visibility': 'public'},\n",
       "      'followers': {'count': 20},\n",
       "      'listItems': {'count': 272,\n",
       "       'items': [{'id': 'v4fa862b3e4b0ebff2f749f06',\n",
       "         'createdAt': 1373909433}]}},\n",
       "     {'id': '4fddeff0e4b0e078037ac0d3',\n",
       "      'name': 'NYC Resturants',\n",
       "      'description': '',\n",
       "      'type': 'others',\n",
       "      'user': {'id': '21563126',\n",
       "       'firstName': 'Richard',\n",
       "       'lastName': 'Revilla',\n",
       "       'gender': 'male',\n",
       "       'photo': {'prefix': 'https://fastly.4sqi.net/img/user/',\n",
       "        'suffix': '/21563126_v05J1KPw_SVj6Ehq9g8B9jeAGjFUMsU5QGl-NZ8inUQ7pKQm5bKplW37EmR7jS2A7GYPBBAtl.jpg'}},\n",
       "      'editable': False,\n",
       "      'public': True,\n",
       "      'collaborative': True,\n",
       "      'url': '/rickr7/list/nyc-resturants',\n",
       "      'canonicalUrl': 'https://foursquare.com/rickr7/list/nyc-resturants',\n",
       "      'createdAt': 1339944944,\n",
       "      'updatedAt': 1550795902,\n",
       "      'photo': {'id': '5072dd13e4b09145cdf782d1',\n",
       "       'createdAt': 1349704979,\n",
       "       'prefix': 'https://fastly.4sqi.net/img/general/',\n",
       "       'suffix': '/208205_fGh2OuAZ9qJ4agbAA5wMVNOSIm9kNUlRtNwj1N-adqg.jpg',\n",
       "       'width': 800,\n",
       "       'height': 800,\n",
       "       'user': {'id': '208205',\n",
       "        'firstName': 'Thalia',\n",
       "        'lastName': 'K',\n",
       "        'gender': 'female',\n",
       "        'photo': {'prefix': 'https://fastly.4sqi.net/img/user/',\n",
       "         'suffix': '/SNOOLCAW2AG04ZKD.jpg'}},\n",
       "       'visibility': 'public'},\n",
       "      'followers': {'count': 12},\n",
       "      'listItems': {'count': 194,\n",
       "       'items': [{'id': 't54ed3b13498e857fd7dbb6fc',\n",
       "         'createdAt': 1514680908}]}},\n",
       "     {'id': '5266c68a498e7c667807fe09',\n",
       "      'name': 'Foodie Love in NY - 02',\n",
       "      'description': '',\n",
       "      'type': 'others',\n",
       "      'user': {'id': '547977',\n",
       "       'firstName': 'WiLL',\n",
       "       'gender': 'male',\n",
       "       'photo': {'prefix': 'https://fastly.4sqi.net/img/user/',\n",
       "        'suffix': '/-Q5NYGDMFDMOITQRR.jpg'}},\n",
       "      'editable': False,\n",
       "      'public': True,\n",
       "      'collaborative': False,\n",
       "      'url': '/sweetiewill/list/foodie-love-in-ny--02',\n",
       "      'canonicalUrl': 'https://foursquare.com/sweetiewill/list/foodie-love-in-ny--02',\n",
       "      'createdAt': 1382467210,\n",
       "      'updatedAt': 1391995585,\n",
       "      'followers': {'count': 7},\n",
       "      'listItems': {'count': 200,\n",
       "       'items': [{'id': 'v4fa862b3e4b0ebff2f749f06',\n",
       "         'createdAt': 1386809936}]}}]}]},\n",
       " 'hours': {'status': 'Closed until 11:30 AM',\n",
       "  'richStatus': {'entities': [], 'text': 'Closed until 11:30 AM'},\n",
       "  'isOpen': False,\n",
       "  'isLocalHoliday': False,\n",
       "  'dayData': [],\n",
       "  'timeframes': [{'days': 'Mon–Wed, Sun',\n",
       "    'includesToday': True,\n",
       "    'open': [{'renderedTime': '11:30 AM–11:00 PM'}],\n",
       "    'segments': []},\n",
       "   {'days': 'Thu–Sat',\n",
       "    'open': [{'renderedTime': '11:30 AM–Midnight'}],\n",
       "    'segments': []}]},\n",
       " 'popular': {'isOpen': False,\n",
       "  'isLocalHoliday': False,\n",
       "  'timeframes': [{'days': 'Today',\n",
       "    'includesToday': True,\n",
       "    'open': [{'renderedTime': 'Noon–2:00 PM'},\n",
       "     {'renderedTime': '6:00 PM–8:00 PM'}],\n",
       "    'segments': []},\n",
       "   {'days': 'Tue–Thu',\n",
       "    'open': [{'renderedTime': 'Noon–2:00 PM'},\n",
       "     {'renderedTime': '5:00 PM–10:00 PM'}],\n",
       "    'segments': []},\n",
       "   {'days': 'Fri',\n",
       "    'open': [{'renderedTime': 'Noon–3:00 PM'},\n",
       "     {'renderedTime': '5:00 PM–11:00 PM'}],\n",
       "    'segments': []},\n",
       "   {'days': 'Sat',\n",
       "    'open': [{'renderedTime': 'Noon–11:00 PM'}],\n",
       "    'segments': []},\n",
       "   {'days': 'Sun',\n",
       "    'open': [{'renderedTime': 'Noon–3:00 PM'},\n",
       "     {'renderedTime': '5:00 PM–8:00 PM'}],\n",
       "    'segments': []}]},\n",
       " 'pageUpdates': {'count': 0, 'items': []},\n",
       " 'inbox': {'count': 0, 'items': []},\n",
       " 'attributes': {'groups': [{'type': 'price',\n",
       "    'name': 'Price',\n",
       "    'summary': '$$',\n",
       "    'count': 1,\n",
       "    'items': [{'displayName': 'Price', 'displayValue': '$$', 'priceTier': 2}]},\n",
       "   {'type': 'payments',\n",
       "    'name': 'Credit Cards',\n",
       "    'summary': 'Credit Cards',\n",
       "    'count': 7,\n",
       "    'items': [{'displayName': 'Credit Cards',\n",
       "      'displayValue': 'Yes (incl. American Express)'}]},\n",
       "   {'type': 'outdoorSeating',\n",
       "    'name': 'Outdoor Seating',\n",
       "    'summary': 'Outdoor Seating',\n",
       "    'count': 1,\n",
       "    'items': [{'displayName': 'Outdoor Seating', 'displayValue': 'Yes'}]},\n",
       "   {'type': 'serves',\n",
       "    'name': 'Menus',\n",
       "    'summary': 'Happy Hour, Brunch & more',\n",
       "    'count': 8,\n",
       "    'items': [{'displayName': 'Brunch', 'displayValue': 'Brunch'},\n",
       "     {'displayName': 'Lunch', 'displayValue': 'Lunch'},\n",
       "     {'displayName': 'Dinner', 'displayValue': 'Dinner'},\n",
       "     {'displayName': 'Happy Hour', 'displayValue': 'Happy Hour'}]},\n",
       "   {'type': 'drinks',\n",
       "    'name': 'Drinks',\n",
       "    'summary': 'Beer, Wine & Cocktails',\n",
       "    'count': 5,\n",
       "    'items': [{'displayName': 'Beer', 'displayValue': 'Beer'},\n",
       "     {'displayName': 'Wine', 'displayValue': 'Wine'},\n",
       "     {'displayName': 'Cocktails', 'displayValue': 'Cocktails'}]},\n",
       "   {'type': 'diningOptions',\n",
       "    'name': 'Dining Options',\n",
       "    'summary': 'Delivery',\n",
       "    'count': 5,\n",
       "    'items': [{'displayName': 'Delivery', 'displayValue': 'Delivery'}]}]},\n",
       " 'bestPhoto': {'id': '4fad980de4b091b4626c3633',\n",
       "  'createdAt': 1336776717,\n",
       "  'source': {'name': 'Foursquare for Android',\n",
       "   'url': 'https://foursquare.com/download/#/android'},\n",
       "  'prefix': 'https://fastly.4sqi.net/img/general/',\n",
       "  'suffix': '/ya1iQFI7pLjuIJp1PGDKlrZS3OJdHCF7tpILMmjv_2w.jpg',\n",
       "  'width': 480,\n",
       "  'height': 640,\n",
       "  'visibility': 'public'},\n",
       " 'colors': {'highlightColor': {'photoId': '4fad980de4b091b4626c3633',\n",
       "   'value': -13619152},\n",
       "  'highlightTextColor': {'photoId': '4fad980de4b091b4626c3633', 'value': -1},\n",
       "  'algoVersion': 3}}"
      ]
     },
     "execution_count": 14,
     "metadata": {},
     "output_type": "execute_result"
    }
   ],
   "source": [
    "result = requests.get(url).json()\n",
    "print(result['response']['venue'].keys())\n",
    "result['response']['venue']"
   ]
  },
  {
   "cell_type": "markdown",
   "metadata": {
    "button": false,
    "deletable": true,
    "new_sheet": false,
    "run_control": {
     "read_only": false
    }
   },
   "source": [
    "### B. Get the venue's overall rating"
   ]
  },
  {
   "cell_type": "code",
   "execution_count": 15,
   "metadata": {
    "button": false,
    "collapsed": false,
    "deletable": true,
    "new_sheet": false,
    "run_control": {
     "read_only": false
    }
   },
   "outputs": [
    {
     "name": "stdout",
     "output_type": "stream",
     "text": [
      "7.1\n"
     ]
    }
   ],
   "source": [
    "try:\n",
    "    print(result['response']['venue']['rating'])\n",
    "except:\n",
    "    print('This venue has not been rated yet.')"
   ]
  },
  {
   "cell_type": "markdown",
   "metadata": {
    "button": false,
    "deletable": true,
    "new_sheet": false,
    "run_control": {
     "read_only": false
    }
   },
   "source": [
    "That is not a very good rating. Let's check the rating of the second closest Italian restaurant."
   ]
  },
  {
   "cell_type": "code",
   "execution_count": 16,
   "metadata": {
    "button": false,
    "collapsed": false,
    "deletable": true,
    "new_sheet": false,
    "run_control": {
     "read_only": false
    }
   },
   "outputs": [
    {
     "name": "stdout",
     "output_type": "stream",
     "text": [
      "This venue has not been rated yet.\n"
     ]
    }
   ],
   "source": [
    "venue_id = '4f3232e219836c91c7bfde94' # ID of Conca Cucina Italian Restaurant\n",
    "url = 'https://api.foursquare.com/v2/venues/{}?client_id={}&client_secret={}&v={}'.format(venue_id, CLIENT_ID, CLIENT_SECRET, VERSION)\n",
    "\n",
    "result = requests.get(url).json()\n",
    "try:\n",
    "    print(result['response']['venue']['rating'])\n",
    "except:\n",
    "    print('This venue has not been rated yet.')"
   ]
  },
  {
   "cell_type": "markdown",
   "metadata": {
    "button": false,
    "deletable": true,
    "new_sheet": false,
    "run_control": {
     "read_only": false
    }
   },
   "source": [
    "Since this restaurant has no ratings, let's check the third restaurant."
   ]
  },
  {
   "cell_type": "code",
   "execution_count": 17,
   "metadata": {
    "button": false,
    "collapsed": false,
    "deletable": true,
    "new_sheet": false,
    "run_control": {
     "read_only": false
    }
   },
   "outputs": [
    {
     "name": "stdout",
     "output_type": "stream",
     "text": [
      "7.9\n"
     ]
    }
   ],
   "source": [
    "venue_id = '3fd66200f964a520f4e41ee3' # ID of Ecco\n",
    "url = 'https://api.foursquare.com/v2/venues/{}?client_id={}&client_secret={}&v={}'.format(venue_id, CLIENT_ID, CLIENT_SECRET, VERSION)\n",
    "\n",
    "result = requests.get(url).json()\n",
    "try:\n",
    "    print(result['response']['venue']['rating'])\n",
    "except:\n",
    "    print('This venue has not been rated yet.')"
   ]
  },
  {
   "cell_type": "markdown",
   "metadata": {
    "button": false,
    "deletable": true,
    "new_sheet": false,
    "run_control": {
     "read_only": false
    }
   },
   "source": [
    "Since this restaurant has a slightly better rating, let's explore it further."
   ]
  },
  {
   "cell_type": "markdown",
   "metadata": {
    "button": false,
    "deletable": true,
    "new_sheet": false,
    "run_control": {
     "read_only": false
    }
   },
   "source": [
    "### C. Get the number of tips"
   ]
  },
  {
   "cell_type": "code",
   "execution_count": 18,
   "metadata": {
    "button": false,
    "collapsed": false,
    "deletable": true,
    "new_sheet": false,
    "run_control": {
     "read_only": false
    }
   },
   "outputs": [
    {
     "data": {
      "text/plain": [
       "16"
      ]
     },
     "execution_count": 18,
     "metadata": {},
     "output_type": "execute_result"
    }
   ],
   "source": [
    "result['response']['venue']['tips']['count']"
   ]
  },
  {
   "cell_type": "markdown",
   "metadata": {
    "button": false,
    "deletable": true,
    "new_sheet": false,
    "run_control": {
     "read_only": false
    }
   },
   "source": [
    "### D. Get the venue's tips\n",
    "> `https://api.foursquare.com/v2/venues/`**VENUE_ID**`/tips?client_id=`**CLIENT_ID**`&client_secret=`**CLIENT_SECRET**`&v=`**VERSION**`&limit=`**LIMIT**"
   ]
  },
  {
   "cell_type": "markdown",
   "metadata": {
    "button": false,
    "deletable": true,
    "new_sheet": false,
    "run_control": {
     "read_only": false
    }
   },
   "source": [
    "#### Create URL and send GET request. Make sure to set limit to get all tips"
   ]
  },
  {
   "cell_type": "code",
   "execution_count": 19,
   "metadata": {
    "button": false,
    "collapsed": false,
    "deletable": true,
    "new_sheet": false,
    "run_control": {
     "read_only": false
    }
   },
   "outputs": [
    {
     "data": {
      "text/plain": [
       "{'meta': {'code': 200, 'requestId': '5c7cfab7351e3d13a5df8ac6'},\n",
       " 'response': {'tips': {'count': 16,\n",
       "   'items': [{'id': '5ab1cb46c9a517174651d3fe',\n",
       "     'createdAt': 1521601350,\n",
       "     'text': 'A+ Italian food! Trust me on this: my mom’s side of the family is 100% Italian. I was born and bred to know good pasta when I see it, and Ecco is one of my all-time NYC favorites',\n",
       "     'type': 'user',\n",
       "     'canonicalUrl': 'https://foursquare.com/item/5ab1cb46c9a517174651d3fe',\n",
       "     'lang': 'en',\n",
       "     'likes': {'count': 0, 'groups': []},\n",
       "     'logView': True,\n",
       "     'agreeCount': 2,\n",
       "     'disagreeCount': 0,\n",
       "     'todo': {'count': 0},\n",
       "     'user': {'id': '484542633',\n",
       "      'firstName': 'Nick',\n",
       "      'lastName': 'El-Tawil',\n",
       "      'gender': 'male',\n",
       "      'photo': {'prefix': 'https://fastly.4sqi.net/img/user/',\n",
       "       'suffix': '/484542633_mK2Yum7T_7Tn9fWpndidJsmw2Hof_6T5vJBKCHPLMK5OL-U5ZiJGj51iwBstcpDLYa3Zvhvis.jpg'}},\n",
       "     'authorInteractionType': 'liked'}]}}}"
      ]
     },
     "execution_count": 19,
     "metadata": {},
     "output_type": "execute_result"
    }
   ],
   "source": [
    "## Ecco Tips\n",
    "limit = 15 # set limit to be greater than or equal to the total number of tips\n",
    "url = 'https://api.foursquare.com/v2/venues/{}/tips?client_id={}&client_secret={}&v={}&limit={}'.format(venue_id, CLIENT_ID, CLIENT_SECRET, VERSION, limit)\n",
    "\n",
    "results = requests.get(url).json()\n",
    "results"
   ]
  },
  {
   "cell_type": "markdown",
   "metadata": {
    "button": false,
    "deletable": true,
    "new_sheet": false,
    "run_control": {
     "read_only": false
    }
   },
   "source": [
    "#### Get tips and list of associated features"
   ]
  },
  {
   "cell_type": "code",
   "execution_count": 20,
   "metadata": {
    "button": false,
    "collapsed": false,
    "deletable": true,
    "new_sheet": false,
    "run_control": {
     "read_only": false
    }
   },
   "outputs": [
    {
     "data": {
      "text/plain": [
       "dict_keys(['id', 'createdAt', 'text', 'type', 'canonicalUrl', 'lang', 'likes', 'logView', 'agreeCount', 'disagreeCount', 'todo', 'user', 'authorInteractionType'])"
      ]
     },
     "execution_count": 20,
     "metadata": {},
     "output_type": "execute_result"
    }
   ],
   "source": [
    "tips = results['response']['tips']['items']\n",
    "\n",
    "tip = results['response']['tips']['items'][0]\n",
    "tip.keys()"
   ]
  },
  {
   "cell_type": "markdown",
   "metadata": {
    "button": false,
    "deletable": true,
    "new_sheet": false,
    "run_control": {
     "read_only": false
    }
   },
   "source": [
    "#### Format column width and display all tips"
   ]
  },
  {
   "cell_type": "code",
   "execution_count": 21,
   "metadata": {
    "button": false,
    "collapsed": false,
    "deletable": true,
    "new_sheet": false,
    "run_control": {
     "read_only": false
    },
    "scrolled": false
   },
   "outputs": [
    {
     "data": {
      "text/html": [
       "<div>\n",
       "<style scoped>\n",
       "    .dataframe tbody tr th:only-of-type {\n",
       "        vertical-align: middle;\n",
       "    }\n",
       "\n",
       "    .dataframe tbody tr th {\n",
       "        vertical-align: top;\n",
       "    }\n",
       "\n",
       "    .dataframe thead th {\n",
       "        text-align: right;\n",
       "    }\n",
       "</style>\n",
       "<table border=\"1\" class=\"dataframe\">\n",
       "  <thead>\n",
       "    <tr style=\"text-align: right;\">\n",
       "      <th></th>\n",
       "      <th>text</th>\n",
       "      <th>agreeCount</th>\n",
       "      <th>disagreeCount</th>\n",
       "      <th>id</th>\n",
       "      <th>user.firstName</th>\n",
       "      <th>user.lastName</th>\n",
       "      <th>user.gender</th>\n",
       "      <th>user.id</th>\n",
       "    </tr>\n",
       "  </thead>\n",
       "  <tbody>\n",
       "    <tr>\n",
       "      <th>0</th>\n",
       "      <td>A+ Italian food! Trust me on this: my mom’s side of the family is 100% Italian. I was born and bred to know good pasta when I see it, and Ecco is one of my all-time NYC favorites</td>\n",
       "      <td>2</td>\n",
       "      <td>0</td>\n",
       "      <td>5ab1cb46c9a517174651d3fe</td>\n",
       "      <td>Nick</td>\n",
       "      <td>El-Tawil</td>\n",
       "      <td>male</td>\n",
       "      <td>484542633</td>\n",
       "    </tr>\n",
       "  </tbody>\n",
       "</table>\n",
       "</div>"
      ],
      "text/plain": [
       "                                                                                                                                                                                 text  \\\n",
       "0  A+ Italian food! Trust me on this: my mom’s side of the family is 100% Italian. I was born and bred to know good pasta when I see it, and Ecco is one of my all-time NYC favorites   \n",
       "\n",
       "   agreeCount  disagreeCount                        id user.firstName  \\\n",
       "0  2           0              5ab1cb46c9a517174651d3fe  Nick            \n",
       "\n",
       "  user.lastName user.gender    user.id  \n",
       "0  El-Tawil      male        484542633  "
      ]
     },
     "execution_count": 21,
     "metadata": {},
     "output_type": "execute_result"
    }
   ],
   "source": [
    "pd.set_option('display.max_colwidth', -1)\n",
    "\n",
    "tips_df = json_normalize(tips) # json normalize tips\n",
    "\n",
    "# columns to keep\n",
    "filtered_columns = ['text', 'agreeCount', 'disagreeCount', 'id', 'user.firstName', 'user.lastName', 'user.gender', 'user.id']\n",
    "tips_filtered = tips_df.loc[:, filtered_columns]\n",
    "\n",
    "# display tips\n",
    "tips_filtered"
   ]
  },
  {
   "cell_type": "markdown",
   "metadata": {
    "button": false,
    "deletable": true,
    "new_sheet": false,
    "run_control": {
     "read_only": false
    }
   },
   "source": [
    "Now remember that because we are using a personal developer account, then we can access only 2 of the restaurant's tips, instead of all 15 tips."
   ]
  },
  {
   "cell_type": "markdown",
   "metadata": {
    "button": false,
    "deletable": true,
    "new_sheet": false,
    "run_control": {
     "read_only": false
    }
   },
   "source": [
    "   "
   ]
  },
  {
   "cell_type": "markdown",
   "metadata": {
    "button": false,
    "deletable": true,
    "new_sheet": false,
    "run_control": {
     "read_only": false
    }
   },
   "source": [
    "<a id=\"item3\"></a>"
   ]
  },
  {
   "cell_type": "markdown",
   "metadata": {
    "button": false,
    "deletable": true,
    "new_sheet": false,
    "run_control": {
     "read_only": false
    }
   },
   "source": [
    "## 3. Search a Foursquare User\n",
    "> `https://api.foursquare.com/v2/users/`**USER_ID**`?client_id=`**CLIENT_ID**`&client_secret=`**CLIENT_SECRET**`&v=`**VERSION**"
   ]
  },
  {
   "cell_type": "markdown",
   "metadata": {
    "button": false,
    "deletable": true,
    "new_sheet": false,
    "run_control": {
     "read_only": false
    }
   },
   "source": [
    "### Define URL, send GET request and display features associated with user"
   ]
  },
  {
   "cell_type": "code",
   "execution_count": 24,
   "metadata": {
    "button": false,
    "collapsed": false,
    "deletable": true,
    "new_sheet": false,
    "run_control": {
     "read_only": false
    }
   },
   "outputs": [
    {
     "data": {
      "text/plain": [
       "dict_keys(['id', 'firstName', 'lastName', 'gender', 'canonicalUrl', 'photo', 'friends', 'tips', 'homeCity', 'bio', 'contact', 'photos', 'type', 'mayorships', 'checkins', 'lists', 'lenses'])"
      ]
     },
     "execution_count": 24,
     "metadata": {},
     "output_type": "execute_result"
    }
   ],
   "source": [
    "user_id = '484542633' # user ID with most agree counts and complete profile\n",
    "\n",
    "url = 'https://api.foursquare.com/v2/users/{}?client_id={}&client_secret={}&v={}'.format(user_id, CLIENT_ID, CLIENT_SECRET, VERSION) # define URL\n",
    "\n",
    "# send GET request\n",
    "results = requests.get(url).json()\n",
    "user_data = results['response']['user']\n",
    "# display features associated with user\n",
    "user_data.keys()"
   ]
  },
  {
   "cell_type": "code",
   "execution_count": 25,
   "metadata": {
    "button": false,
    "collapsed": false,
    "deletable": true,
    "new_sheet": false,
    "run_control": {
     "read_only": false
    }
   },
   "outputs": [
    {
     "name": "stdout",
     "output_type": "stream",
     "text": [
      "First Name: Nick\n",
      "Last Name: El-Tawil\n",
      "Home City: New York, NY\n"
     ]
    }
   ],
   "source": [
    "print('First Name: ' + user_data['firstName'])\n",
    "print('Last Name: ' + user_data['lastName'])\n",
    "print('Home City: ' + user_data['homeCity'])"
   ]
  },
  {
   "cell_type": "markdown",
   "metadata": {
    "button": false,
    "deletable": true,
    "new_sheet": false,
    "run_control": {
     "read_only": false
    }
   },
   "source": [
    "#### How many tips has this user submitted?"
   ]
  },
  {
   "cell_type": "code",
   "execution_count": 26,
   "metadata": {
    "button": false,
    "collapsed": false,
    "deletable": true,
    "new_sheet": false,
    "run_control": {
     "read_only": false
    }
   },
   "outputs": [
    {
     "data": {
      "text/plain": [
       "{'count': 241}"
      ]
     },
     "execution_count": 26,
     "metadata": {},
     "output_type": "execute_result"
    }
   ],
   "source": [
    "user_data['tips']"
   ]
  },
  {
   "cell_type": "markdown",
   "metadata": {
    "button": false,
    "deletable": true,
    "new_sheet": false,
    "run_control": {
     "read_only": false
    }
   },
   "source": [
    "Wow! So it turns out that Nick is a very active Foursquare user, with more than 250 tips."
   ]
  },
  {
   "cell_type": "markdown",
   "metadata": {
    "button": false,
    "deletable": true,
    "new_sheet": false,
    "run_control": {
     "read_only": false
    }
   },
   "source": [
    "### Get User's tips"
   ]
  },
  {
   "cell_type": "code",
   "execution_count": 27,
   "metadata": {
    "button": false,
    "collapsed": false,
    "deletable": true,
    "new_sheet": false,
    "run_control": {
     "read_only": false
    },
    "scrolled": false
   },
   "outputs": [
    {
     "data": {
      "text/html": [
       "<div>\n",
       "<style scoped>\n",
       "    .dataframe tbody tr th:only-of-type {\n",
       "        vertical-align: middle;\n",
       "    }\n",
       "\n",
       "    .dataframe tbody tr th {\n",
       "        vertical-align: top;\n",
       "    }\n",
       "\n",
       "    .dataframe thead th {\n",
       "        text-align: right;\n",
       "    }\n",
       "</style>\n",
       "<table border=\"1\" class=\"dataframe\">\n",
       "  <thead>\n",
       "    <tr style=\"text-align: right;\">\n",
       "      <th></th>\n",
       "      <th>text</th>\n",
       "      <th>agreeCount</th>\n",
       "      <th>disagreeCount</th>\n",
       "      <th>id</th>\n",
       "    </tr>\n",
       "  </thead>\n",
       "  <tbody>\n",
       "    <tr>\n",
       "      <th>0</th>\n",
       "      <td>The best! I’m especially fond of the salmon burger, but I’ve had half of the menu and never been disappointed. There’s a reason this place is well known even outside of the Village!</td>\n",
       "      <td>1</td>\n",
       "      <td>0</td>\n",
       "      <td>5aec594b1f7440002c138612</td>\n",
       "    </tr>\n",
       "    <tr>\n",
       "      <th>1</th>\n",
       "      <td>I used to down a pint of chocolate like it was nothing back when I was bulking. Highly recommended!</td>\n",
       "      <td>1</td>\n",
       "      <td>0</td>\n",
       "      <td>5accc9f66fa81f196724807b</td>\n",
       "    </tr>\n",
       "    <tr>\n",
       "      <th>2</th>\n",
       "      <td>They serve coffee!!!!!!</td>\n",
       "      <td>1</td>\n",
       "      <td>0</td>\n",
       "      <td>5accc98c0313204c9d7ec157</td>\n",
       "    </tr>\n",
       "    <tr>\n",
       "      <th>3</th>\n",
       "      <td>I’m a fan. In fact, I’m such a big fan, I want Taim to hire me to be their spokesman. Kind of like the Arabic Jared Fogle - but without the kid stuff.</td>\n",
       "      <td>1</td>\n",
       "      <td>0</td>\n",
       "      <td>5accbf033abcaf09a24612a0</td>\n",
       "    </tr>\n",
       "    <tr>\n",
       "      <th>4</th>\n",
       "      <td>The linguine with clams is on point 👌</td>\n",
       "      <td>1</td>\n",
       "      <td>0</td>\n",
       "      <td>5accbe3a911fc423730f3ed3</td>\n",
       "    </tr>\n",
       "    <tr>\n",
       "      <th>5</th>\n",
       "      <td>Great for a quick, cheap lunch! Shorter lines than Chipotle too👌</td>\n",
       "      <td>1</td>\n",
       "      <td>0</td>\n",
       "      <td>5acbecb86fa81f1967e019b0</td>\n",
       "    </tr>\n",
       "    <tr>\n",
       "      <th>6</th>\n",
       "      <td>Quick, cheap lunch that tastes good! Way shorter line than Chipotle, too.</td>\n",
       "      <td>1</td>\n",
       "      <td>0</td>\n",
       "      <td>5acbec70a0215b732e264fe8</td>\n",
       "    </tr>\n",
       "    <tr>\n",
       "      <th>7</th>\n",
       "      <td>You’re not a real New Yorker until you’ve shame-ordered Insomnia Cookies for delivery at 3am</td>\n",
       "      <td>1</td>\n",
       "      <td>0</td>\n",
       "      <td>5acbbd4eb1538e45373b07f5</td>\n",
       "    </tr>\n",
       "    <tr>\n",
       "      <th>8</th>\n",
       "      <td>Good for you yet still tasty! Clean green protein is my go-to after I hit the gym 💪</td>\n",
       "      <td>2</td>\n",
       "      <td>0</td>\n",
       "      <td>5acbbcda01235808d5d6dc75</td>\n",
       "    </tr>\n",
       "    <tr>\n",
       "      <th>9</th>\n",
       "      <td>Coffee game on point</td>\n",
       "      <td>1</td>\n",
       "      <td>0</td>\n",
       "      <td>5acbbb1501235808d5d6525e</td>\n",
       "    </tr>\n",
       "    <tr>\n",
       "      <th>10</th>\n",
       "      <td>This is the dive bar to end all other dive bars. Go here if you like cheap drinks! 🥃</td>\n",
       "      <td>1</td>\n",
       "      <td>0</td>\n",
       "      <td>5ab576abea1e444f2abb051e</td>\n",
       "    </tr>\n",
       "    <tr>\n",
       "      <th>11</th>\n",
       "      <td>Burger game strong 💪</td>\n",
       "      <td>1</td>\n",
       "      <td>0</td>\n",
       "      <td>5ab575fb6bdee65f759da8c1</td>\n",
       "    </tr>\n",
       "    <tr>\n",
       "      <th>12</th>\n",
       "      <td>Great burgers &amp; fries! Also, this place is exactly what it’s like when you go to a bar in the Southwest. Source: I’m from Arizona.</td>\n",
       "      <td>2</td>\n",
       "      <td>0</td>\n",
       "      <td>5ab5575d73fe2516ad8f363b</td>\n",
       "    </tr>\n",
       "    <tr>\n",
       "      <th>13</th>\n",
       "      <td>That guy looks familiar...</td>\n",
       "      <td>1</td>\n",
       "      <td>0</td>\n",
       "      <td>5ab5299635f98312029a53b7</td>\n",
       "    </tr>\n",
       "    <tr>\n",
       "      <th>14</th>\n",
       "      <td>Açaí bowl + peanut butter + whey protein = 💪💪💪</td>\n",
       "      <td>1</td>\n",
       "      <td>0</td>\n",
       "      <td>5ab42db53c858d64af2688a4</td>\n",
       "    </tr>\n",
       "  </tbody>\n",
       "</table>\n",
       "</div>"
      ],
      "text/plain": [
       "                                                                                                                                                                                     text  \\\n",
       "0   The best! I’m especially fond of the salmon burger, but I’ve had half of the menu and never been disappointed. There’s a reason this place is well known even outside of the Village!   \n",
       "1   I used to down a pint of chocolate like it was nothing back when I was bulking. Highly recommended!                                                                                     \n",
       "2   They serve coffee!!!!!!                                                                                                                                                                 \n",
       "3   I’m a fan. In fact, I’m such a big fan, I want Taim to hire me to be their spokesman. Kind of like the Arabic Jared Fogle - but without the kid stuff.                                  \n",
       "4   The linguine with clams is on point 👌                                                                                                                                                   \n",
       "5   Great for a quick, cheap lunch! Shorter lines than Chipotle too👌                                                                                                                        \n",
       "6   Quick, cheap lunch that tastes good! Way shorter line than Chipotle, too.                                                                                                               \n",
       "7   You’re not a real New Yorker until you’ve shame-ordered Insomnia Cookies for delivery at 3am                                                                                            \n",
       "8   Good for you yet still tasty! Clean green protein is my go-to after I hit the gym 💪                                                                                                     \n",
       "9   Coffee game on point                                                                                                                                                                    \n",
       "10  This is the dive bar to end all other dive bars. Go here if you like cheap drinks! 🥃                                                                                                    \n",
       "11  Burger game strong 💪                                                                                                                                                                    \n",
       "12  Great burgers & fries! Also, this place is exactly what it’s like when you go to a bar in the Southwest. Source: I’m from Arizona.                                                      \n",
       "13  That guy looks familiar...                                                                                                                                                              \n",
       "14  Açaí bowl + peanut butter + whey protein = 💪💪💪                                                                                                                                          \n",
       "\n",
       "    agreeCount  disagreeCount                        id  \n",
       "0   1           0              5aec594b1f7440002c138612  \n",
       "1   1           0              5accc9f66fa81f196724807b  \n",
       "2   1           0              5accc98c0313204c9d7ec157  \n",
       "3   1           0              5accbf033abcaf09a24612a0  \n",
       "4   1           0              5accbe3a911fc423730f3ed3  \n",
       "5   1           0              5acbecb86fa81f1967e019b0  \n",
       "6   1           0              5acbec70a0215b732e264fe8  \n",
       "7   1           0              5acbbd4eb1538e45373b07f5  \n",
       "8   2           0              5acbbcda01235808d5d6dc75  \n",
       "9   1           0              5acbbb1501235808d5d6525e  \n",
       "10  1           0              5ab576abea1e444f2abb051e  \n",
       "11  1           0              5ab575fb6bdee65f759da8c1  \n",
       "12  2           0              5ab5575d73fe2516ad8f363b  \n",
       "13  1           0              5ab5299635f98312029a53b7  \n",
       "14  1           0              5ab42db53c858d64af2688a4  "
      ]
     },
     "execution_count": 27,
     "metadata": {},
     "output_type": "execute_result"
    }
   ],
   "source": [
    "# define tips URL\n",
    "url = 'https://api.foursquare.com/v2/users/{}/tips?client_id={}&client_secret={}&v={}&limit={}'.format(user_id, CLIENT_ID, CLIENT_SECRET, VERSION, limit)\n",
    "\n",
    "# send GET request and get user's tips\n",
    "results = requests.get(url).json()\n",
    "tips = results['response']['tips']['items']\n",
    "\n",
    "# format column width\n",
    "pd.set_option('display.max_colwidth', -1)\n",
    "\n",
    "tips_df = json_normalize(tips)\n",
    "\n",
    "# filter columns\n",
    "filtered_columns = ['text', 'agreeCount', 'disagreeCount', 'id']\n",
    "tips_filtered = tips_df.loc[:, filtered_columns]\n",
    "\n",
    "# display user's tips\n",
    "tips_filtered"
   ]
  },
  {
   "cell_type": "markdown",
   "metadata": {
    "button": false,
    "deletable": true,
    "new_sheet": false,
    "run_control": {
     "read_only": false
    }
   },
   "source": [
    "#### Let's get the venue for the tip with the greatest number of agree counts"
   ]
  },
  {
   "cell_type": "code",
   "execution_count": 28,
   "metadata": {
    "button": false,
    "collapsed": false,
    "deletable": true,
    "new_sheet": false,
    "run_control": {
     "read_only": false
    }
   },
   "outputs": [
    {
     "name": "stdout",
     "output_type": "stream",
     "text": [
      "Cowgirl\n",
      "{'address': '519 Hudson St', 'crossStreet': 'at W 10th St', 'lat': 40.73373338282062, 'lng': -74.0062998849649, 'labeledLatLngs': [{'label': 'display', 'lat': 40.73373338282062, 'lng': -74.0062998849649}], 'postalCode': '10014', 'cc': 'US', 'city': 'New York', 'state': 'NY', 'country': 'United States', 'formattedAddress': ['519 Hudson St (at W 10th St)', 'New York, NY 10014', 'United States']}\n"
     ]
    }
   ],
   "source": [
    "tip_id = '5ab5575d73fe2516ad8f363b' # tip id\n",
    "\n",
    "# define URL\n",
    "url = 'http://api.foursquare.com/v2/tips/{}?client_id={}&client_secret={}&v={}'.format(tip_id, CLIENT_ID, CLIENT_SECRET, VERSION)\n",
    "\n",
    "# send GET Request and examine results\n",
    "result = requests.get(url).json()\n",
    "print(result['response']['tip']['venue']['name'])\n",
    "print(result['response']['tip']['venue']['location'])"
   ]
  },
  {
   "cell_type": "markdown",
   "metadata": {
    "button": false,
    "deletable": true,
    "new_sheet": false,
    "run_control": {
     "read_only": false
    }
   },
   "source": [
    "### Get User's friends"
   ]
  },
  {
   "cell_type": "code",
   "execution_count": 30,
   "metadata": {
    "button": false,
    "collapsed": false,
    "deletable": true,
    "new_sheet": false,
    "run_control": {
     "read_only": false
    },
    "scrolled": false
   },
   "outputs": [
    {
     "data": {
      "text/html": [
       "<div>\n",
       "<style scoped>\n",
       "    .dataframe tbody tr th:only-of-type {\n",
       "        vertical-align: middle;\n",
       "    }\n",
       "\n",
       "    .dataframe tbody tr th {\n",
       "        vertical-align: top;\n",
       "    }\n",
       "\n",
       "    .dataframe thead th {\n",
       "        text-align: right;\n",
       "    }\n",
       "</style>\n",
       "<table border=\"1\" class=\"dataframe\">\n",
       "  <thead>\n",
       "    <tr style=\"text-align: right;\">\n",
       "      <th></th>\n",
       "    </tr>\n",
       "  </thead>\n",
       "  <tbody>\n",
       "  </tbody>\n",
       "</table>\n",
       "</div>"
      ],
      "text/plain": [
       "Empty DataFrame\n",
       "Columns: []\n",
       "Index: []"
      ]
     },
     "execution_count": 30,
     "metadata": {},
     "output_type": "execute_result"
    }
   ],
   "source": [
    "user_friends = json_normalize(user_data['friends']['groups'][0]['items'])\n",
    "user_friends"
   ]
  },
  {
   "cell_type": "markdown",
   "metadata": {
    "button": false,
    "deletable": true,
    "new_sheet": false,
    "run_control": {
     "read_only": false
    }
   },
   "source": [
    "Interesting. Despite being very active, it turns out that Nick does not have any friends on Foursquare. This might definitely change in the future."
   ]
  },
  {
   "cell_type": "markdown",
   "metadata": {
    "button": false,
    "deletable": true,
    "new_sheet": false,
    "run_control": {
     "read_only": false
    }
   },
   "source": [
    "### Retrieve the User's Profile Image"
   ]
  },
  {
   "cell_type": "code",
   "execution_count": 31,
   "metadata": {
    "button": false,
    "collapsed": false,
    "deletable": true,
    "new_sheet": false,
    "run_control": {
     "read_only": false
    },
    "scrolled": true
   },
   "outputs": [
    {
     "data": {
      "text/plain": [
       "{'id': '484542633',\n",
       " 'firstName': 'Nick',\n",
       " 'lastName': 'El-Tawil',\n",
       " 'gender': 'male',\n",
       " 'canonicalUrl': 'https://foursquare.com/nickeltawil',\n",
       " 'photo': {'prefix': 'https://fastly.4sqi.net/img/user/',\n",
       "  'suffix': '/484542633_mK2Yum7T_7Tn9fWpndidJsmw2Hof_6T5vJBKCHPLMK5OL-U5ZiJGj51iwBstcpDLYa3Zvhvis.jpg'},\n",
       " 'friends': {'count': 0,\n",
       "  'groups': [{'type': 'others',\n",
       "    'name': 'Other friends',\n",
       "    'count': 0,\n",
       "    'items': []}]},\n",
       " 'tips': {'count': 241},\n",
       " 'homeCity': 'New York, NY',\n",
       " 'bio': 'https://www.tawil.team/nick-el-tawil/',\n",
       " 'contact': {},\n",
       " 'photos': {'count': 0, 'items': []},\n",
       " 'type': 'user',\n",
       " 'mayorships': {'count': 0, 'items': []},\n",
       " 'checkins': {'count': 1, 'items': []},\n",
       " 'lists': {'count': 2,\n",
       "  'groups': [{'type': 'created', 'count': 0, 'items': []},\n",
       "   {'type': 'followed', 'count': 0, 'items': []},\n",
       "   {'type': 'yours',\n",
       "    'count': 2,\n",
       "    'items': [{'id': '484542633/todos',\n",
       "      'name': \"Nick's Saved Places\",\n",
       "      'description': '',\n",
       "      'type': 'todos',\n",
       "      'editable': False,\n",
       "      'public': True,\n",
       "      'collaborative': False,\n",
       "      'url': '/nickeltawil/list/todos',\n",
       "      'canonicalUrl': 'https://foursquare.com/nickeltawil/list/todos',\n",
       "      'listItems': {'count': 0}},\n",
       "     {'id': '484542633/venuelikes',\n",
       "      'name': 'Nick’s Liked Places',\n",
       "      'description': '',\n",
       "      'type': 'likes',\n",
       "      'editable': False,\n",
       "      'public': True,\n",
       "      'collaborative': False,\n",
       "      'url': '/nickeltawil/list/venuelikes',\n",
       "      'canonicalUrl': 'https://foursquare.com/nickeltawil/list/venuelikes',\n",
       "      'listItems': {'count': 0}}]}]},\n",
       " 'lenses': []}"
      ]
     },
     "execution_count": 31,
     "metadata": {},
     "output_type": "execute_result"
    }
   ],
   "source": [
    "user_data"
   ]
  },
  {
   "cell_type": "code",
   "execution_count": 32,
   "metadata": {
    "button": false,
    "collapsed": false,
    "deletable": true,
    "new_sheet": false,
    "run_control": {
     "read_only": false
    }
   },
   "outputs": [
    {
     "data": {
      "text/html": [
       "<img src=\"https://igx.4sqi.net/img/user/300x300/484542633_mK2Yum7T_7Tn9fWpndidJsmw2Hof_6T5vJBKCHPLMK5OL-U5ZiJGj51iwBstcpDLYa3Zvhvis.jpg\"/>"
      ],
      "text/plain": [
       "<IPython.core.display.Image object>"
      ]
     },
     "execution_count": 32,
     "metadata": {},
     "output_type": "execute_result"
    }
   ],
   "source": [
    "# 1. grab prefix of photo\n",
    "# 2. grab suffix of photo\n",
    "# 3. concatenate them using the image size  \n",
    "Image(url='https://igx.4sqi.net/img/user/300x300/484542633_mK2Yum7T_7Tn9fWpndidJsmw2Hof_6T5vJBKCHPLMK5OL-U5ZiJGj51iwBstcpDLYa3Zvhvis.jpg')"
   ]
  },
  {
   "cell_type": "markdown",
   "metadata": {
    "button": false,
    "deletable": true,
    "new_sheet": false,
    "run_control": {
     "read_only": false
    }
   },
   "source": [
    "  "
   ]
  },
  {
   "cell_type": "markdown",
   "metadata": {
    "button": false,
    "deletable": true,
    "new_sheet": false,
    "run_control": {
     "read_only": false
    }
   },
   "source": [
    "<a id=\"item4\"></a>"
   ]
  },
  {
   "cell_type": "markdown",
   "metadata": {
    "button": false,
    "deletable": true,
    "new_sheet": false,
    "run_control": {
     "read_only": false
    }
   },
   "source": [
    "## 4. Explore a location\n",
    "> `https://api.foursquare.com/v2/venues/`**explore**`?client_id=`**CLIENT_ID**`&client_secret=`**CLIENT_SECRET**`&ll=`**LATITUDE**`,`**LONGITUDE**`&v=`**VERSION**`&limit=`**LIMIT**"
   ]
  },
  {
   "cell_type": "markdown",
   "metadata": {
    "button": false,
    "deletable": true,
    "new_sheet": false,
    "run_control": {
     "read_only": false
    }
   },
   "source": [
    "#### So, you just finished your gourmet dish at Ecco, and are just curious about the popular spots around the restaurant. In order to explore the area, let's start by getting the latitude and longitude values of Ecco Restaurant."
   ]
  },
  {
   "cell_type": "code",
   "execution_count": 33,
   "metadata": {
    "button": false,
    "collapsed": true,
    "deletable": true,
    "new_sheet": false,
    "run_control": {
     "read_only": false
    }
   },
   "outputs": [],
   "source": [
    "latitude = 40.715337\n",
    "longitude = -74.008848"
   ]
  },
  {
   "cell_type": "markdown",
   "metadata": {
    "button": false,
    "deletable": true,
    "new_sheet": false,
    "run_control": {
     "read_only": false
    }
   },
   "source": [
    "#### Define URL"
   ]
  },
  {
   "cell_type": "code",
   "execution_count": 34,
   "metadata": {
    "button": false,
    "collapsed": false,
    "deletable": true,
    "new_sheet": false,
    "run_control": {
     "read_only": false
    }
   },
   "outputs": [
    {
     "data": {
      "text/plain": [
       "'https://api.foursquare.com/v2/venues/explore?client_id=HPPNIJVXOZNEQNVAXEZ0DMOID0RY3QWDRGISE03M2GQ3OE0D&client_secret=DXZVUECBAG4V1S2W5SW0OD2YAJBMN1W3D4DQIDYSKX2JTB2H&ll=40.715337,-74.008848&v=20180604&radius=500&limit=30'"
      ]
     },
     "execution_count": 34,
     "metadata": {},
     "output_type": "execute_result"
    }
   ],
   "source": [
    "url = 'https://api.foursquare.com/v2/venues/explore?client_id={}&client_secret={}&ll={},{}&v={}&radius={}&limit={}'.format(CLIENT_ID, CLIENT_SECRET, latitude, longitude, VERSION, radius, LIMIT)\n",
    "url"
   ]
  },
  {
   "cell_type": "markdown",
   "metadata": {
    "button": false,
    "deletable": true,
    "new_sheet": false,
    "run_control": {
     "read_only": false
    }
   },
   "source": [
    "#### Send GET request and examine results"
   ]
  },
  {
   "cell_type": "code",
   "execution_count": 35,
   "metadata": {
    "button": false,
    "collapsed": true,
    "deletable": true,
    "new_sheet": false,
    "run_control": {
     "read_only": false
    }
   },
   "outputs": [],
   "source": [
    "import requests"
   ]
  },
  {
   "cell_type": "code",
   "execution_count": 36,
   "metadata": {
    "button": false,
    "collapsed": false,
    "deletable": true,
    "new_sheet": false,
    "run_control": {
     "read_only": false
    }
   },
   "outputs": [
    {
     "data": {
      "text/plain": [
       "'There are 30 around Ecco restaurant.'"
      ]
     },
     "execution_count": 36,
     "metadata": {},
     "output_type": "execute_result"
    }
   ],
   "source": [
    "results = requests.get(url).json()\n",
    "'There are {} around Ecco restaurant.'.format(len(results['response']['groups'][0]['items']))"
   ]
  },
  {
   "cell_type": "markdown",
   "metadata": {
    "button": false,
    "deletable": true,
    "new_sheet": false,
    "run_control": {
     "read_only": false
    }
   },
   "source": [
    "#### Get relevant part of JSON"
   ]
  },
  {
   "cell_type": "code",
   "execution_count": 37,
   "metadata": {
    "button": false,
    "collapsed": false,
    "deletable": true,
    "new_sheet": false,
    "run_control": {
     "read_only": false
    }
   },
   "outputs": [
    {
     "data": {
      "text/plain": [
       "{'reasons': {'count': 0,\n",
       "  'items': [{'summary': 'This spot is popular',\n",
       "    'type': 'general',\n",
       "    'reasonName': 'globalInteractionReason'}]},\n",
       " 'venue': {'id': '4af5d65ff964a52091fd21e3',\n",
       "  'name': 'Korin',\n",
       "  'location': {'address': '57 Warren St',\n",
       "   'crossStreet': 'Church St',\n",
       "   'lat': 40.71482437714839,\n",
       "   'lng': -74.00940425461492,\n",
       "   'labeledLatLngs': [{'label': 'display',\n",
       "     'lat': 40.71482437714839,\n",
       "     'lng': -74.00940425461492}],\n",
       "   'distance': 73,\n",
       "   'postalCode': '10007',\n",
       "   'cc': 'US',\n",
       "   'neighborhood': 'Tribeca',\n",
       "   'city': 'New York',\n",
       "   'state': 'NY',\n",
       "   'country': 'United States',\n",
       "   'formattedAddress': ['57 Warren St (Church St)',\n",
       "    'New York, NY 10007',\n",
       "    'United States']},\n",
       "  'categories': [{'id': '4bf58dd8d48988d1f8941735',\n",
       "    'name': 'Furniture / Home Store',\n",
       "    'pluralName': 'Furniture / Home Stores',\n",
       "    'shortName': 'Furniture / Home',\n",
       "    'icon': {'prefix': 'https://ss3.4sqi.net/img/categories_v2/shops/furniture_',\n",
       "     'suffix': '.png'},\n",
       "    'primary': True}],\n",
       "  'photos': {'count': 0, 'groups': []},\n",
       "  'venuePage': {'id': '33104775'}},\n",
       " 'referralId': 'e-0-4af5d65ff964a52091fd21e3-0'}"
      ]
     },
     "execution_count": 37,
     "metadata": {},
     "output_type": "execute_result"
    }
   ],
   "source": [
    "items = results['response']['groups'][0]['items']\n",
    "items[0]"
   ]
  },
  {
   "cell_type": "markdown",
   "metadata": {
    "button": false,
    "deletable": true,
    "new_sheet": false,
    "run_control": {
     "read_only": false
    }
   },
   "source": [
    "#### Process JSON and convert it to a clean dataframe"
   ]
  },
  {
   "cell_type": "code",
   "execution_count": 38,
   "metadata": {
    "button": false,
    "collapsed": false,
    "deletable": true,
    "new_sheet": false,
    "run_control": {
     "read_only": false
    },
    "scrolled": false
   },
   "outputs": [
    {
     "data": {
      "text/html": [
       "<div>\n",
       "<style scoped>\n",
       "    .dataframe tbody tr th:only-of-type {\n",
       "        vertical-align: middle;\n",
       "    }\n",
       "\n",
       "    .dataframe tbody tr th {\n",
       "        vertical-align: top;\n",
       "    }\n",
       "\n",
       "    .dataframe thead th {\n",
       "        text-align: right;\n",
       "    }\n",
       "</style>\n",
       "<table border=\"1\" class=\"dataframe\">\n",
       "  <thead>\n",
       "    <tr style=\"text-align: right;\">\n",
       "      <th></th>\n",
       "      <th>name</th>\n",
       "      <th>categories</th>\n",
       "      <th>address</th>\n",
       "      <th>cc</th>\n",
       "      <th>city</th>\n",
       "      <th>country</th>\n",
       "      <th>crossStreet</th>\n",
       "      <th>distance</th>\n",
       "      <th>formattedAddress</th>\n",
       "      <th>labeledLatLngs</th>\n",
       "      <th>lat</th>\n",
       "      <th>lng</th>\n",
       "      <th>neighborhood</th>\n",
       "      <th>postalCode</th>\n",
       "      <th>state</th>\n",
       "      <th>id</th>\n",
       "    </tr>\n",
       "  </thead>\n",
       "  <tbody>\n",
       "    <tr>\n",
       "      <th>0</th>\n",
       "      <td>Korin</td>\n",
       "      <td>Furniture / Home Store</td>\n",
       "      <td>57 Warren St</td>\n",
       "      <td>US</td>\n",
       "      <td>New York</td>\n",
       "      <td>United States</td>\n",
       "      <td>Church St</td>\n",
       "      <td>73</td>\n",
       "      <td>[57 Warren St (Church St), New York, NY 10007, United States]</td>\n",
       "      <td>[{'label': 'display', 'lat': 40.71482437714839, 'lng': -74.00940425461492}]</td>\n",
       "      <td>40.714824</td>\n",
       "      <td>-74.009404</td>\n",
       "      <td>Tribeca</td>\n",
       "      <td>10007</td>\n",
       "      <td>NY</td>\n",
       "      <td>4af5d65ff964a52091fd21e3</td>\n",
       "    </tr>\n",
       "    <tr>\n",
       "      <th>1</th>\n",
       "      <td>Chambers Street Wines</td>\n",
       "      <td>Wine Shop</td>\n",
       "      <td>148 Chambers St</td>\n",
       "      <td>US</td>\n",
       "      <td>New York</td>\n",
       "      <td>United States</td>\n",
       "      <td>btwn West Broadway &amp; Hudson St</td>\n",
       "      <td>88</td>\n",
       "      <td>[148 Chambers St (btwn West Broadway &amp; Hudson St), New York, NY 10007, United States]</td>\n",
       "      <td>[{'label': 'display', 'lat': 40.715773063928374, 'lng': -74.00971823312332}]</td>\n",
       "      <td>40.715773</td>\n",
       "      <td>-74.009718</td>\n",
       "      <td>NaN</td>\n",
       "      <td>10007</td>\n",
       "      <td>NY</td>\n",
       "      <td>4adcf23cf964a520cc6221e3</td>\n",
       "    </tr>\n",
       "    <tr>\n",
       "      <th>2</th>\n",
       "      <td>Takahachi Bakery</td>\n",
       "      <td>Bakery</td>\n",
       "      <td>25 Murray St</td>\n",
       "      <td>US</td>\n",
       "      <td>New York</td>\n",
       "      <td>United States</td>\n",
       "      <td>at Church St</td>\n",
       "      <td>187</td>\n",
       "      <td>[25 Murray St (at Church St), New York, NY 10007, United States]</td>\n",
       "      <td>[{'label': 'display', 'lat': 40.713652845301894, 'lng': -74.0088038953017}]</td>\n",
       "      <td>40.713653</td>\n",
       "      <td>-74.008804</td>\n",
       "      <td>NaN</td>\n",
       "      <td>10007</td>\n",
       "      <td>NY</td>\n",
       "      <td>4c154c9a77cea593c401d260</td>\n",
       "    </tr>\n",
       "    <tr>\n",
       "      <th>3</th>\n",
       "      <td>Takahachi</td>\n",
       "      <td>Sushi Restaurant</td>\n",
       "      <td>145 Duane St</td>\n",
       "      <td>US</td>\n",
       "      <td>New York</td>\n",
       "      <td>United States</td>\n",
       "      <td>btwn W Broadway &amp; Church St</td>\n",
       "      <td>146</td>\n",
       "      <td>[145 Duane St (btwn W Broadway &amp; Church St), New York, NY 10013, United States]</td>\n",
       "      <td>[{'label': 'display', 'lat': 40.71652647412374, 'lng': -74.00810108466207}]</td>\n",
       "      <td>40.716526</td>\n",
       "      <td>-74.008101</td>\n",
       "      <td>NaN</td>\n",
       "      <td>10013</td>\n",
       "      <td>NY</td>\n",
       "      <td>4a8f2f39f964a520471420e3</td>\n",
       "    </tr>\n",
       "    <tr>\n",
       "      <th>4</th>\n",
       "      <td>Juice Press</td>\n",
       "      <td>Vegetarian / Vegan Restaurant</td>\n",
       "      <td>83 Murray St</td>\n",
       "      <td>US</td>\n",
       "      <td>New York</td>\n",
       "      <td>United States</td>\n",
       "      <td>btwn Greenwich St &amp; W Broadway</td>\n",
       "      <td>202</td>\n",
       "      <td>[83 Murray St (btwn Greenwich St &amp; W Broadway), New York, NY 10007, United States]</td>\n",
       "      <td>[{'label': 'display', 'lat': 40.71478769908051, 'lng': -74.0111317502157}]</td>\n",
       "      <td>40.714788</td>\n",
       "      <td>-74.011132</td>\n",
       "      <td>NaN</td>\n",
       "      <td>10007</td>\n",
       "      <td>NY</td>\n",
       "      <td>54148bc6498ea7bb8c05b70a</td>\n",
       "    </tr>\n",
       "    <tr>\n",
       "      <th>5</th>\n",
       "      <td>Mulberry &amp; Vine</td>\n",
       "      <td>Café</td>\n",
       "      <td>73 Warren St</td>\n",
       "      <td>US</td>\n",
       "      <td>New York</td>\n",
       "      <td>United States</td>\n",
       "      <td>btwn W Broadway &amp; Greenwich St</td>\n",
       "      <td>117</td>\n",
       "      <td>[73 Warren St (btwn W Broadway &amp; Greenwich St), New York, NY 10007, United States]</td>\n",
       "      <td>[{'label': 'display', 'lat': 40.71517693966315, 'lng': -74.01022747778285}]</td>\n",
       "      <td>40.715177</td>\n",
       "      <td>-74.010227</td>\n",
       "      <td>NaN</td>\n",
       "      <td>10007</td>\n",
       "      <td>NY</td>\n",
       "      <td>5171b5cc011cef9833bbb787</td>\n",
       "    </tr>\n",
       "    <tr>\n",
       "      <th>6</th>\n",
       "      <td>Nish Nūsh</td>\n",
       "      <td>Falafel Restaurant</td>\n",
       "      <td>88 Reade St</td>\n",
       "      <td>US</td>\n",
       "      <td>New York</td>\n",
       "      <td>United States</td>\n",
       "      <td>at Church St</td>\n",
       "      <td>97</td>\n",
       "      <td>[88 Reade St (at Church St), New York, NY 10013, United States]</td>\n",
       "      <td>[{'label': 'display', 'lat': 40.71553710116416, 'lng': -74.00772452925565}]</td>\n",
       "      <td>40.715537</td>\n",
       "      <td>-74.007725</td>\n",
       "      <td>NaN</td>\n",
       "      <td>10013</td>\n",
       "      <td>NY</td>\n",
       "      <td>50ba9119e4b071a4bae6dc10</td>\n",
       "    </tr>\n",
       "    <tr>\n",
       "      <th>7</th>\n",
       "      <td>Equinox Tribeca</td>\n",
       "      <td>Gym</td>\n",
       "      <td>54 Murray Street</td>\n",
       "      <td>US</td>\n",
       "      <td>New York</td>\n",
       "      <td>United States</td>\n",
       "      <td>at W Broadway</td>\n",
       "      <td>154</td>\n",
       "      <td>[54 Murray Street (at W Broadway), New York, NY 10007, United States]</td>\n",
       "      <td>[{'label': 'display', 'lat': 40.71409860726041, 'lng': -74.0096857179283}]</td>\n",
       "      <td>40.714099</td>\n",
       "      <td>-74.009686</td>\n",
       "      <td>NaN</td>\n",
       "      <td>10007</td>\n",
       "      <td>NY</td>\n",
       "      <td>4a6e331af964a52031d41fe3</td>\n",
       "    </tr>\n",
       "    <tr>\n",
       "      <th>8</th>\n",
       "      <td>Ten Over Ten</td>\n",
       "      <td>Nail Salon</td>\n",
       "      <td>112 Reade St</td>\n",
       "      <td>US</td>\n",
       "      <td>New York</td>\n",
       "      <td>United States</td>\n",
       "      <td>NaN</td>\n",
       "      <td>68</td>\n",
       "      <td>[112 Reade St, New York, NY 10013, United States]</td>\n",
       "      <td>[{'label': 'display', 'lat': 40.71594125566931, 'lng': -74.00872053564494}]</td>\n",
       "      <td>40.715941</td>\n",
       "      <td>-74.008721</td>\n",
       "      <td>NaN</td>\n",
       "      <td>10013</td>\n",
       "      <td>NY</td>\n",
       "      <td>4ce2a27cd58c60fc0fa1a76f</td>\n",
       "    </tr>\n",
       "    <tr>\n",
       "      <th>9</th>\n",
       "      <td>Whole Foods Market</td>\n",
       "      <td>Grocery Store</td>\n",
       "      <td>270 Greenwich Street</td>\n",
       "      <td>US</td>\n",
       "      <td>New York</td>\n",
       "      <td>United States</td>\n",
       "      <td>at Warren St</td>\n",
       "      <td>214</td>\n",
       "      <td>[270 Greenwich Street (at Warren St), New York, NY 10007, United States]</td>\n",
       "      <td>[{'label': 'display', 'lat': 40.715579155420606, 'lng': -74.01136823958119}]</td>\n",
       "      <td>40.715579</td>\n",
       "      <td>-74.011368</td>\n",
       "      <td>Tribeca</td>\n",
       "      <td>10007</td>\n",
       "      <td>NY</td>\n",
       "      <td>49bc3b0af964a52020541fe3</td>\n",
       "    </tr>\n",
       "  </tbody>\n",
       "</table>\n",
       "</div>"
      ],
      "text/plain": [
       "                    name                     categories               address  \\\n",
       "0  Korin                  Furniture / Home Store         57 Warren St           \n",
       "1  Chambers Street Wines  Wine Shop                      148 Chambers St        \n",
       "2  Takahachi Bakery       Bakery                         25 Murray St           \n",
       "3  Takahachi              Sushi Restaurant               145 Duane St           \n",
       "4  Juice Press            Vegetarian / Vegan Restaurant  83 Murray St           \n",
       "5  Mulberry & Vine        Café                           73 Warren St           \n",
       "6  Nish Nūsh              Falafel Restaurant             88 Reade St            \n",
       "7  Equinox Tribeca        Gym                            54 Murray Street       \n",
       "8  Ten Over Ten           Nail Salon                     112 Reade St           \n",
       "9  Whole Foods Market     Grocery Store                  270 Greenwich Street   \n",
       "\n",
       "   cc      city        country                     crossStreet  distance  \\\n",
       "0  US  New York  United States  Church St                       73         \n",
       "1  US  New York  United States  btwn West Broadway & Hudson St  88         \n",
       "2  US  New York  United States  at Church St                    187        \n",
       "3  US  New York  United States  btwn W Broadway & Church St     146        \n",
       "4  US  New York  United States  btwn Greenwich St & W Broadway  202        \n",
       "5  US  New York  United States  btwn W Broadway & Greenwich St  117        \n",
       "6  US  New York  United States  at Church St                    97         \n",
       "7  US  New York  United States  at W Broadway                   154        \n",
       "8  US  New York  United States  NaN                             68         \n",
       "9  US  New York  United States  at Warren St                    214        \n",
       "\n",
       "                                                                        formattedAddress  \\\n",
       "0  [57 Warren St (Church St), New York, NY 10007, United States]                           \n",
       "1  [148 Chambers St (btwn West Broadway & Hudson St), New York, NY 10007, United States]   \n",
       "2  [25 Murray St (at Church St), New York, NY 10007, United States]                        \n",
       "3  [145 Duane St (btwn W Broadway & Church St), New York, NY 10013, United States]         \n",
       "4  [83 Murray St (btwn Greenwich St & W Broadway), New York, NY 10007, United States]      \n",
       "5  [73 Warren St (btwn W Broadway & Greenwich St), New York, NY 10007, United States]      \n",
       "6  [88 Reade St (at Church St), New York, NY 10013, United States]                         \n",
       "7  [54 Murray Street (at W Broadway), New York, NY 10007, United States]                   \n",
       "8  [112 Reade St, New York, NY 10013, United States]                                       \n",
       "9  [270 Greenwich Street (at Warren St), New York, NY 10007, United States]                \n",
       "\n",
       "                                                                 labeledLatLngs  \\\n",
       "0  [{'label': 'display', 'lat': 40.71482437714839, 'lng': -74.00940425461492}]    \n",
       "1  [{'label': 'display', 'lat': 40.715773063928374, 'lng': -74.00971823312332}]   \n",
       "2  [{'label': 'display', 'lat': 40.713652845301894, 'lng': -74.0088038953017}]    \n",
       "3  [{'label': 'display', 'lat': 40.71652647412374, 'lng': -74.00810108466207}]    \n",
       "4  [{'label': 'display', 'lat': 40.71478769908051, 'lng': -74.0111317502157}]     \n",
       "5  [{'label': 'display', 'lat': 40.71517693966315, 'lng': -74.01022747778285}]    \n",
       "6  [{'label': 'display', 'lat': 40.71553710116416, 'lng': -74.00772452925565}]    \n",
       "7  [{'label': 'display', 'lat': 40.71409860726041, 'lng': -74.0096857179283}]     \n",
       "8  [{'label': 'display', 'lat': 40.71594125566931, 'lng': -74.00872053564494}]    \n",
       "9  [{'label': 'display', 'lat': 40.715579155420606, 'lng': -74.01136823958119}]   \n",
       "\n",
       "         lat        lng neighborhood postalCode state  \\\n",
       "0  40.714824 -74.009404  Tribeca      10007      NY     \n",
       "1  40.715773 -74.009718  NaN          10007      NY     \n",
       "2  40.713653 -74.008804  NaN          10007      NY     \n",
       "3  40.716526 -74.008101  NaN          10013      NY     \n",
       "4  40.714788 -74.011132  NaN          10007      NY     \n",
       "5  40.715177 -74.010227  NaN          10007      NY     \n",
       "6  40.715537 -74.007725  NaN          10013      NY     \n",
       "7  40.714099 -74.009686  NaN          10007      NY     \n",
       "8  40.715941 -74.008721  NaN          10013      NY     \n",
       "9  40.715579 -74.011368  Tribeca      10007      NY     \n",
       "\n",
       "                         id  \n",
       "0  4af5d65ff964a52091fd21e3  \n",
       "1  4adcf23cf964a520cc6221e3  \n",
       "2  4c154c9a77cea593c401d260  \n",
       "3  4a8f2f39f964a520471420e3  \n",
       "4  54148bc6498ea7bb8c05b70a  \n",
       "5  5171b5cc011cef9833bbb787  \n",
       "6  50ba9119e4b071a4bae6dc10  \n",
       "7  4a6e331af964a52031d41fe3  \n",
       "8  4ce2a27cd58c60fc0fa1a76f  \n",
       "9  49bc3b0af964a52020541fe3  "
      ]
     },
     "execution_count": 38,
     "metadata": {},
     "output_type": "execute_result"
    }
   ],
   "source": [
    "dataframe = json_normalize(items) # flatten JSON\n",
    "\n",
    "# filter columns\n",
    "filtered_columns = ['venue.name', 'venue.categories'] + [col for col in dataframe.columns if col.startswith('venue.location.')] + ['venue.id']\n",
    "dataframe_filtered = dataframe.loc[:, filtered_columns]\n",
    "\n",
    "# filter the category for each row\n",
    "dataframe_filtered['venue.categories'] = dataframe_filtered.apply(get_category_type, axis=1)\n",
    "\n",
    "# clean columns\n",
    "dataframe_filtered.columns = [col.split('.')[-1] for col in dataframe_filtered.columns]\n",
    "\n",
    "dataframe_filtered.head(10)"
   ]
  },
  {
   "cell_type": "markdown",
   "metadata": {
    "button": false,
    "deletable": true,
    "new_sheet": false,
    "run_control": {
     "read_only": false
    }
   },
   "source": [
    "#### Let's visualize these items on the map around our location"
   ]
  },
  {
   "cell_type": "code",
   "execution_count": 39,
   "metadata": {
    "button": false,
    "collapsed": false,
    "deletable": true,
    "new_sheet": false,
    "run_control": {
     "read_only": false
    }
   },
   "outputs": [
    {
     "data": {
      "text/html": [
       "<div style=\"width:100%;\"><div style=\"position:relative;width:100%;height:0;padding-bottom:60%;\"><iframe src=\"data:text/html;charset=utf-8;base64,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\" style=\"position:absolute;width:100%;height:100%;left:0;top:0;border:none !important;\" allowfullscreen webkitallowfullscreen mozallowfullscreen></iframe></div></div>"
      ],
      "text/plain": [
       "<folium.folium.Map at 0x7f0e3f96add8>"
      ]
     },
     "execution_count": 39,
     "metadata": {},
     "output_type": "execute_result"
    }
   ],
   "source": [
    "venues_map = folium.Map(location=[latitude, longitude], zoom_start=15) # generate map centred around Ecco\n",
    "\n",
    "\n",
    "# add Ecco as a red circle mark\n",
    "folium.features.CircleMarker(\n",
    "    [latitude, longitude],\n",
    "    radius=10,\n",
    "    popup='Ecco',\n",
    "    fill=True,\n",
    "    color='red',\n",
    "    fill_color='red',\n",
    "    fill_opacity=0.6\n",
    "    ).add_to(venues_map)\n",
    "\n",
    "\n",
    "# add popular spots to the map as blue circle markers\n",
    "for lat, lng, label in zip(dataframe_filtered.lat, dataframe_filtered.lng, dataframe_filtered.categories):\n",
    "    folium.features.CircleMarker(\n",
    "        [lat, lng],\n",
    "        radius=5,\n",
    "        popup=label,\n",
    "        fill=True,\n",
    "        color='blue',\n",
    "        fill_color='blue',\n",
    "        fill_opacity=0.6\n",
    "        ).add_to(venues_map)\n",
    "\n",
    "# display map\n",
    "venues_map"
   ]
  },
  {
   "cell_type": "markdown",
   "metadata": {
    "button": false,
    "deletable": true,
    "new_sheet": false,
    "run_control": {
     "read_only": false
    }
   },
   "source": [
    "   "
   ]
  },
  {
   "cell_type": "markdown",
   "metadata": {
    "button": false,
    "deletable": true,
    "new_sheet": false,
    "run_control": {
     "read_only": false
    }
   },
   "source": [
    "<a id=\"item5\"></a>"
   ]
  },
  {
   "cell_type": "markdown",
   "metadata": {
    "button": false,
    "deletable": true,
    "new_sheet": false,
    "run_control": {
     "read_only": false
    }
   },
   "source": [
    "## 5. Explore Trending Venues\n",
    "> `https://api.foursquare.com/v2/venues/`**trending**`?client_id=`**CLIENT_ID**`&client_secret=`**CLIENT_SECRET**`&ll=`**LATITUDE**`,`**LONGITUDE**`&v=`**VERSION**"
   ]
  },
  {
   "cell_type": "markdown",
   "metadata": {
    "button": false,
    "deletable": true,
    "new_sheet": false,
    "run_control": {
     "read_only": false
    }
   },
   "source": [
    "#### Now, instead of simply exploring the area around Ecco, you are interested in knowing the venues that are trending at the time you are done with your lunch, meaning the places with the highest foot traffic. So let's do that and get the trending venues around Ecco."
   ]
  },
  {
   "cell_type": "code",
   "execution_count": 40,
   "metadata": {
    "button": false,
    "collapsed": false,
    "deletable": true,
    "new_sheet": false,
    "run_control": {
     "read_only": false
    }
   },
   "outputs": [
    {
     "data": {
      "text/plain": [
       "{'meta': {'code': 200, 'requestId': '5c7cfc326a60714c80b503e7'},\n",
       " 'response': {'venues': []}}"
      ]
     },
     "execution_count": 40,
     "metadata": {},
     "output_type": "execute_result"
    }
   ],
   "source": [
    "# define URL\n",
    "url = 'https://api.foursquare.com/v2/venues/trending?client_id={}&client_secret={}&ll={},{}&v={}'.format(CLIENT_ID, CLIENT_SECRET, latitude, longitude, VERSION)\n",
    "\n",
    "# send GET request and get trending venues\n",
    "results = requests.get(url).json()\n",
    "results"
   ]
  },
  {
   "cell_type": "markdown",
   "metadata": {
    "button": false,
    "deletable": true,
    "new_sheet": false,
    "run_control": {
     "read_only": false
    }
   },
   "source": [
    "### Check if any venues are trending at this time"
   ]
  },
  {
   "cell_type": "code",
   "execution_count": 43,
   "metadata": {
    "button": false,
    "collapsed": true,
    "deletable": true,
    "new_sheet": false,
    "run_control": {
     "read_only": false
    }
   },
   "outputs": [],
   "source": [
    "if len(results['response']['venues']) == 0:\n",
    "    trending_venues_df = 'No trending venues are available at the moment!'\n",
    "    \n",
    "else:\n",
    "    trending_venues = results['response']['venues']\n",
    "    trending_venues_df = json_normalize(trending_venues)\n",
    "\n",
    "    # filter columns\n",
    "    columns_filtered = ['name', 'categories'] + ['location.distance', 'location.city', 'location.postalCode', 'location.state', 'location.country', 'location.lat', 'location.lng']\n",
    "    trending_venues_df = trending_venues_df.loc[:, columns_filtered]\n",
    "\n",
    "    # filter the category for each row\n",
    "    trending_venues_df['categories'] = trending_venues_df.apply(get_category_type, axis=1)"
   ]
  },
  {
   "cell_type": "code",
   "execution_count": 44,
   "metadata": {
    "button": false,
    "collapsed": false,
    "deletable": true,
    "new_sheet": false,
    "run_control": {
     "read_only": false
    }
   },
   "outputs": [
    {
     "data": {
      "text/plain": [
       "'No trending venues are available at the moment!'"
      ]
     },
     "execution_count": 44,
     "metadata": {},
     "output_type": "execute_result"
    }
   ],
   "source": [
    "# display trending venues\n",
    "trending_venues_df"
   ]
  },
  {
   "cell_type": "markdown",
   "metadata": {
    "button": false,
    "deletable": true,
    "new_sheet": false,
    "run_control": {
     "read_only": false
    }
   },
   "source": [
    "Now, depending on when you run the above code, you might get different venues since the venues with the highest foot traffic are fetched live. "
   ]
  },
  {
   "cell_type": "markdown",
   "metadata": {
    "button": false,
    "deletable": true,
    "new_sheet": false,
    "run_control": {
     "read_only": false
    }
   },
   "source": [
    "### Visualize trending venues"
   ]
  },
  {
   "cell_type": "code",
   "execution_count": 45,
   "metadata": {
    "button": false,
    "collapsed": false,
    "deletable": true,
    "new_sheet": false,
    "run_control": {
     "read_only": false
    }
   },
   "outputs": [],
   "source": [
    "if len(results['response']['venues']) == 0:\n",
    "    venues_map = 'Cannot generate visual as no trending venues are available at the moment!'\n",
    "\n",
    "else:\n",
    "    venues_map = folium.Map(location=[latitude, longitude], zoom_start=15) # generate map centred around Ecco\n",
    "\n",
    "\n",
    "    # add Ecco as a red circle mark\n",
    "    folium.features.CircleMarker(\n",
    "        [latitude, longitude],\n",
    "        radius=10,\n",
    "        popup='Ecco',\n",
    "        fill=True,\n",
    "        color='red',\n",
    "        fill_color='red',\n",
    "        fill_opacity=0.6\n",
    "    ).add_to(venues_map)\n",
    "\n",
    "\n",
    "    # add the trending venues as blue circle markers\n",
    "    for lat, lng, label in zip(trending_venues_df['location.lat'], trending_venues_df['location.lng'], trending_venues_df['name']):\n",
    "        folium.features.CircleMarker(\n",
    "            [lat, lng],\n",
    "            radius=5,\n",
    "            poup=label,\n",
    "            fill=True,\n",
    "            color='blue',\n",
    "            fill_color='blue',\n",
    "            fill_opacity=0.6\n",
    "        ).add_to(venues_map)"
   ]
  },
  {
   "cell_type": "code",
   "execution_count": 46,
   "metadata": {
    "button": false,
    "collapsed": false,
    "deletable": true,
    "new_sheet": false,
    "run_control": {
     "read_only": false
    },
    "scrolled": false
   },
   "outputs": [
    {
     "data": {
      "text/plain": [
       "'Cannot generate visual as no trending venues are available at the moment!'"
      ]
     },
     "execution_count": 46,
     "metadata": {},
     "output_type": "execute_result"
    }
   ],
   "source": [
    "# display map\n",
    "venues_map"
   ]
  },
  {
   "cell_type": "markdown",
   "metadata": {
    "button": false,
    "deletable": true,
    "new_sheet": false,
    "run_control": {
     "read_only": false
    }
   },
   "source": [
    "<a id=\"item6\"></a>"
   ]
  },
  {
   "cell_type": "markdown",
   "metadata": {
    "button": false,
    "deletable": true,
    "new_sheet": false,
    "run_control": {
     "read_only": false
    }
   },
   "source": [
    "   "
   ]
  },
  {
   "cell_type": "markdown",
   "metadata": {
    "button": false,
    "deletable": true,
    "new_sheet": false,
    "run_control": {
     "read_only": false
    }
   },
   "source": [
    "### Thank you for completing this lab!\n",
    "\n",
    "This notebook was created by [Alex Aklson](https://www.linkedin.com/in/aklson/). I hope you found this lab interesting and educational. Feel free to contact me if you have any questions!"
   ]
  },
  {
   "cell_type": "markdown",
   "metadata": {
    "button": false,
    "deletable": true,
    "new_sheet": false,
    "run_control": {
     "read_only": false
    }
   },
   "source": [
    "This notebook is part of a course on **Coursera** called *Applied Data Science Capstone*. If you accessed this notebook outside the course, you can take this course online by clicking [here](http://cocl.us/DP0701EN_Coursera_Week2_LAB1)."
   ]
  },
  {
   "cell_type": "markdown",
   "metadata": {
    "button": false,
    "deletable": true,
    "new_sheet": false,
    "run_control": {
     "read_only": false
    }
   },
   "source": [
    "<hr>\n",
    "Copyright &copy; 2018 [Cognitive Class](https://cognitiveclass.ai/?utm_source=bducopyrightlink&utm_medium=dswb&utm_campaign=bdu). This notebook and its source code are released under the terms of the [MIT License](https://bigdatauniversity.com/mit-license/)."
   ]
  }
 ],
 "metadata": {
  "kernelspec": {
   "display_name": "Python 3",
   "language": "python",
   "name": "python3"
  },
  "language_info": {
   "codemirror_mode": {
    "name": "ipython",
    "version": 3
   },
   "file_extension": ".py",
   "mimetype": "text/x-python",
   "name": "python",
   "nbconvert_exporter": "python",
   "pygments_lexer": "ipython3",
   "version": "3.6.8"
  },
  "widgets": {
   "state": {},
   "version": "1.1.2"
  }
 },
 "nbformat": 4,
 "nbformat_minor": 2
}
